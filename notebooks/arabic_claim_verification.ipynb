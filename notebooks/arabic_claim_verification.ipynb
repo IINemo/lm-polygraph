{
 "cells": [
  {
   "cell_type": "code",
   "execution_count": 8,
   "metadata": {},
   "outputs": [],
   "source": [
    "from lm_polygraph.generation_metrics.openai_fact_check import OpenAIFactCheck\n",
    "from lm_polygraph.stat_calculators.extract_claims import Claim\n",
    "import json\n",
    "import pandas as pd\n",
    "from tqdm import tqdm\n",
    "arabic_checker = OpenAIFactCheck('gpt-4o', language='ar')\n",
    "\n",
    "## load claims\n",
    "full_claims = pd.read_csv('../workdir/arabic_claims.csv')"
   ]
  },
  {
   "cell_type": "code",
   "execution_count": 9,
   "metadata": {},
   "outputs": [
    {
     "data": {
      "text/plain": [
       "Index(['question', 'bio', 'claim', 'sentence', 'tokens'], dtype='object')"
      ]
     },
     "execution_count": 9,
     "metadata": {},
     "output_type": "execute_result"
    }
   ],
   "source": [
    "full_claims.columns"
   ]
  },
  {
   "cell_type": "code",
   "execution_count": 15,
   "metadata": {},
   "outputs": [
    {
     "name": "stderr",
     "output_type": "stream",
     "text": [
      "100%|██████████| 478/478 [11:45<00:00,  1.48s/it]\n"
     ]
    }
   ],
   "source": [
    "for i, row in tqdm(full_claims.iterrows(), total=full_claims.shape[0]):\n",
    "    claim = [Claim(claim_text=row['claim'], sentence=row['sentence'], aligned_tokens=row['tokens'])]\n",
    "    check_dict = { \"input_texts\": [row['question']],\n",
    "                  \"claims\": [claim]}\n",
    "    chatgpt_response = arabic_checker(check_dict, None, None )\n",
    "    full_claims.at[i,'chatgpt_verdict'] = chatgpt_response[0]\n",
    "\n"
   ]
  },
  {
   "cell_type": "code",
   "execution_count": 16,
   "metadata": {},
   "outputs": [
    {
     "data": {
      "text/plain": [
       "(472, 478)"
      ]
     },
     "execution_count": 16,
     "metadata": {},
     "output_type": "execute_result"
    }
   ],
   "source": [
    "full_claims['chatgpt_verdict'].value_counts().sum(), len(full_claims)"
   ]
  },
  {
   "cell_type": "code",
   "execution_count": 17,
   "metadata": {},
   "outputs": [],
   "source": [
    "full_claims.sample(frac=1).to_csv(\"../workdir/arabic_fact_checked_claims_two_steps_shuffled.csv\", index=False)\n",
    "\n",
    "full_claims.to_csv(\"../workdir/arabic_fact_checked_claims_two_steps.csv\", index=False)"
   ]
  }
 ],
 "metadata": {
  "kernelspec": {
   "display_name": "base",
   "language": "python",
   "name": "python3"
  },
  "language_info": {
   "codemirror_mode": {
    "name": "ipython",
    "version": 3
   },
   "file_extension": ".py",
   "mimetype": "text/x-python",
   "name": "python",
   "nbconvert_exporter": "python",
   "pygments_lexer": "ipython3",
   "version": "3.10.13"
  }
 },
 "nbformat": 4,
 "nbformat_minor": 2
}
