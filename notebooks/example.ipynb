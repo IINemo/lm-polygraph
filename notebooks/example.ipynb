{
 "cells": [
  {
   "cell_type": "code",
   "execution_count": 1,
   "id": "6958a441",
   "metadata": {},
   "outputs": [
    {
     "name": "stderr",
     "output_type": "stream",
     "text": [
      "/opt/homebrew/lib/python3.10/site-packages/tqdm/auto.py:22: TqdmWarning: IProgress not found. Please update jupyter and ipywidgets. See https://ipywidgets.readthedocs.io/en/stable/user_install.html\n",
      "  from .autonotebook import tqdm as notebook_tqdm\n"
     ]
    }
   ],
   "source": [
    "from lm_polygraph.utils.model import WhiteboxModel, BlackboxModel\n",
    "from lm_polygraph.utils.manager import estimate_uncertainty\n",
    "from lm_polygraph.estimators import MaxProbabilityToken, LexicalSimilarity, SemanticEntropy, MutualInformationToken, NumSemSets"
   ]
  },
  {
   "cell_type": "code",
   "execution_count": 2,
   "id": "4e7a7afe",
   "metadata": {},
   "outputs": [],
   "source": [
    "model = WhiteboxModel.from_pretrained(\n",
    "    'bigscience/bloomz-560m',\n",
    "    device='cpu',\n",
    ")"
   ]
  },
  {
   "cell_type": "code",
   "execution_count": 3,
   "id": "247f5d7d",
   "metadata": {},
   "outputs": [
    {
     "data": {
      "text/plain": [
       "UncertaintyOutput(generation_text=' President of the United States', generation_tokens=[14032, 461, 368, 8097, 10650, 2], uncertainty=[0.7567059099674225, 0.07517528533935547, 0.0902259349822998, 0.004485070705413818, 0.007133007049560547])"
      ]
     },
     "execution_count": 3,
     "metadata": {},
     "output_type": "execute_result"
    }
   ],
   "source": [
    "estimator = MaximumTokenProbability()\n",
    "estimate_uncertainty(model, estimator, input_text='Who is George Bush?')"
   ]
  },
  {
   "cell_type": "code",
   "execution_count": 4,
   "id": "8292b97e",
   "metadata": {},
   "outputs": [
    {
     "data": {
      "text/plain": [
       "UncertaintyOutput(generation_text=' President of the United States', generation_tokens=[14032, 461, 368, 8097, 10650, 2], uncertainty=0.4958265317076541)"
      ]
     },
     "execution_count": 4,
     "metadata": {},
     "output_type": "execute_result"
    }
   ],
   "source": [
    "estimator = LexicalSimilarity('rougeL')\n",
    "estimate_uncertainty(model, estimator, input_text='Who is George Bush?')"
   ]
  },
  {
   "cell_type": "code",
   "execution_count": 5,
   "id": "a906db0a",
   "metadata": {},
   "outputs": [
    {
     "name": "stderr",
     "output_type": "stream",
     "text": [
      "Some weights of the model checkpoint at microsoft/deberta-large-mnli were not used when initializing DebertaForSequenceClassification: ['config']\n",
      "- This IS expected if you are initializing DebertaForSequenceClassification from the checkpoint of a model trained on another task or with another architecture (e.g. initializing a BertForSequenceClassification model from a BertForPreTraining model).\n",
      "- This IS NOT expected if you are initializing DebertaForSequenceClassification from the checkpoint of a model that you expect to be exactly identical (initializing a BertForSequenceClassification model from a BertForSequenceClassification model).\n"
     ]
    },
    {
     "data": {
      "text/plain": [
       "UncertaintyOutput(generation_text=' President of the United States', generation_tokens=[14032, 461, 368, 8097, 10650, 2], uncertainty=0)"
      ]
     },
     "execution_count": 5,
     "metadata": {},
     "output_type": "execute_result"
    }
   ],
   "source": [
    "estimator = SemanticEntropy()\n",
    "estimate_uncertainty(model, estimator, input_text='Who is George Bush?')"
   ]
  },
  {
   "cell_type": "code",
   "execution_count": 6,
   "id": "90f3c0ef",
   "metadata": {},
   "outputs": [
    {
     "data": {
      "text/plain": [
       "UncertaintyOutput(generation_text=' play with her dolls. She was a little girl who was very clever and had a great imagination.', generation_tokens=[7229, 1002, 3809, 17486, 86, 17, 15114, 1620, 267, 10512, 27566, 5268, 1620, 5636, 149014, 530, 3866, 267, 10087, 113763, 17, 2], uncertainty=[1, 0.7202686507442325, 0.7702847500348701, 0.7409490199216593, 0.83325393325805, 0.5219022491776908, 0.5672784274912547, 0.4858425888807328, 0.6037714892465637, 0.623415073443396, 0.7642224684768371, 0.7034269162345049, 0.6456988474591419, 0.6136820173649916, 0.8346284582474612, 0.6054181743693101, 0.7274661819983143, 0.7194126593817707, 0.6838967231707969, 0.6482278629637275, 0.5188493636206667])"
      ]
     },
     "execution_count": 6,
     "metadata": {},
     "output_type": "execute_result"
    }
   ],
   "source": [
    "estimator = PointwiseMutualInformation()\n",
    "estimate_uncertainty(model, estimator, input_text='Once upon a time there was a little girl who liked to')"
   ]
  },
  {
   "cell_type": "code",
   "execution_count": 7,
   "id": "b93cda59",
   "metadata": {},
   "outputs": [
    {
     "name": "stdout",
     "output_type": "stream",
     "text": [
      "generated answers: [' Dr. Strange (2000 film)', ' Mulan', ' A New American Girl', ' A Good Thing Happen', ' The Seven Year Series', ' The Darkest Hour', ' Star Trek: Picard', ' Titanic', ' American Pie', ' Toy Story 3']\n"
     ]
    },
    {
     "name": "stderr",
     "output_type": "stream",
     "text": [
      "Could not find normalizing bounds for estimator: NumSemSets. Will not normalize values."
     ]
    },
    {
     "data": {
      "text/plain": [
       "UncertaintyOutput(generation_text=' The Last Ship', generation_tokens=[1387, 46326, 158384, 2], uncertainty=10)"
      ]
     },
     "execution_count": 7,
     "metadata": {},
     "output_type": "execute_result"
    }
   ],
   "source": [
    "estimator = NumSemSets(verbose=True)\n",
    "estimate_uncertainty(model, estimator, input_text='What is the most interesting film?')"
   ]
  },
  {
   "cell_type": "code",
   "execution_count": 3,
   "id": "c334ede0",
   "metadata": {},
   "outputs": [
    {
     "name": "stdout",
     "output_type": "stream",
     "text": [
      "generated answers: ['Albert Einstein died on April 18, 1955.', 'Albert Einstein died on April 18, 1955.', 'Albert Einstein died on April 18, 1955.', 'Albert Einstein died on April 18, 1955.', 'Albert Einstein died on April 18, 1955.', 'Albert Einstein died on April 18, 1955.', 'Albert Einstein died on April 18, 1955.', 'Albert Einstein died on April 18, 1955.', 'Albert Einstein died on April 18, 1955.', 'Albert Einstein died on April 18, 1955.']\n"
     ]
    },
    {
     "name": "stderr",
     "output_type": "stream",
     "text": [
      "Could not find normalizing bounds for estimator: NumSemSets. Will not normalize values."
     ]
    },
    {
     "data": {
      "text/plain": [
       "UncertaintyOutput(generation_text=['Albert Einstein died on April 18, 1955.'], generation_tokens=None, uncertainty=1)"
      ]
     },
     "execution_count": 3,
     "metadata": {},
     "output_type": "execute_result"
    }
   ],
   "source": [
    "model = BlackboxModel(\n",
    "    'YOUR_API_KEY',\n",
    "    'gpt-3.5-turbo'\n",
    ")\n",
    "\n",
    "estimator = NumSemSets(verbose=True)\n",
    "estimate_uncertainty(model, estimator, input_text='When did Albert Einstein die?')"
   ]
  },
  {
   "cell_type": "code",
   "execution_count": null,
   "id": "545dc1db",
   "metadata": {},
   "outputs": [],
   "source": []
  }
 ],
 "metadata": {
  "kernelspec": {
   "display_name": "lm_poly",
   "language": "python",
   "name": "lm_poly"
  },
  "language_info": {
   "codemirror_mode": {
    "name": "ipython",
    "version": 3
   },
   "file_extension": ".py",
   "mimetype": "text/x-python",
   "name": "python",
   "nbconvert_exporter": "python",
   "pygments_lexer": "ipython3",
   "version": "3.10.12"
  }
 },
 "nbformat": 4,
 "nbformat_minor": 5
}
