{
 "cells": [
  {
   "cell_type": "code",
   "execution_count": 1,
   "metadata": {},
   "outputs": [
    {
     "name": "stderr",
     "output_type": "stream",
     "text": [
      "/home/boda/miniforge3/lib/python3.10/site-packages/tqdm/auto.py:21: TqdmWarning: IProgress not found. Please update jupyter and ipywidgets. See https://ipywidgets.readthedocs.io/en/stable/user_install.html\n",
      "  from .autonotebook import tqdm as notebook_tqdm\n",
      "/home/boda/miniforge3/lib/python3.10/site-packages/transformers/utils/generic.py:441: UserWarning: torch.utils._pytree._register_pytree_node is deprecated. Please use torch.utils._pytree.register_pytree_node instead.\n",
      "  _torch_pytree._register_pytree_node(\n",
      "/home/boda/miniforge3/lib/python3.10/site-packages/transformers/utils/generic.py:309: UserWarning: torch.utils._pytree._register_pytree_node is deprecated. Please use torch.utils._pytree.register_pytree_node instead.\n",
      "  _torch_pytree._register_pytree_node(\n",
      "/home/boda/miniforge3/lib/python3.10/site-packages/transformers/utils/generic.py:309: UserWarning: torch.utils._pytree._register_pytree_node is deprecated. Please use torch.utils._pytree.register_pytree_node instead.\n",
      "  _torch_pytree._register_pytree_node(\n",
      "/home/boda/miniforge3/lib/python3.10/site-packages/transformers/utils/generic.py:309: UserWarning: torch.utils._pytree._register_pytree_node is deprecated. Please use torch.utils._pytree.register_pytree_node instead.\n",
      "  _torch_pytree._register_pytree_node(\n",
      "/home/boda/miniforge3/lib/python3.10/site-packages/transformers/utils/generic.py:309: UserWarning: torch.utils._pytree._register_pytree_node is deprecated. Please use torch.utils._pytree.register_pytree_node instead.\n",
      "  _torch_pytree._register_pytree_node(\n",
      "/home/boda/miniforge3/lib/python3.10/site-packages/huggingface_hub/file_download.py:1132: FutureWarning: `resume_download` is deprecated and will be removed in version 1.0.0. Downloads always resume when possible. If you want to force a new download, use `force_download=True`.\n",
      "  warnings.warn(\n"
     ]
    }
   ],
   "source": [
    "import os\n",
    "from lm_polygraph.stat_calculators import *\n",
    "from lm_polygraph.utils.openai_chat import OpenAIChat\n",
    "from transformers import AutoTokenizer\n",
    "from lm_polygraph.model_adapters import WhiteBoxModelBasic\n",
    "from torch.utils.data import DataLoader\n",
    "import json\n",
    "import pandas as pd\n",
    "from tqdm import tqdm\n",
    "## Create a ClaimsExtractor object\n",
    "calc_claim_extractor = ClaimsExtractor(OpenAIChat(\"gpt-4o\"))\n",
    "## Set model to None, as we will not need it \n",
    "model = None\n",
    "tokenizer = AutoTokenizer.from_pretrained(\"core42/jais-13b\", trust_remote_code=True)\n",
    "## Setting a dummy whitebox model object\n",
    "model_adapter = WhiteBoxModelBasic(model, tokenizer)\n"
   ]
  },
  {
   "cell_type": "code",
   "execution_count": 2,
   "metadata": {},
   "outputs": [
    {
     "name": "stdout",
     "output_type": "stream",
     "text": [
      "dict_keys(['all_input_texts', 'all_input_ids', 'all_generated_tokens', 'all_cut_alternatives', 'all_alternatives', 'all_output_text'])\n",
      "Number of bios:  100\n",
      "Number of bios after removing duplicates:  100\n"
     ]
    }
   ],
   "source": [
    "## Load Arabic bios dataset\n",
    "arabic_bios = []\n",
    "with open(\"../workdir/arabian_output.json\", \"r\") as f:\n",
    "    arabic_bios = json.load(f) \n",
    "\n",
    "print(arabic_bios.keys())\n",
    "print(\"Number of bios: \", len(arabic_bios['all_input_texts']))\n",
    "arabic_bios = pd.DataFrame(arabic_bios, columns=['all_input_texts', 'all_output_text']).drop_duplicates()\n",
    "print(\"Number of bios after removing duplicates: \", len(arabic_bios))"
   ]
  },
  {
   "cell_type": "code",
   "execution_count": 3,
   "metadata": {},
   "outputs": [],
   "source": [
    "arabic_bios = arabic_bios.dropna().rename(columns={'all_input_texts': 'question', 'all_output_text': 'bio'})"
   ]
  },
  {
   "cell_type": "code",
   "execution_count": 5,
   "metadata": {},
   "outputs": [
    {
     "name": "stderr",
     "output_type": "stream",
     "text": [
      "100%|██████████| 100/100 [09:58<00:00,  5.99s/it]\n"
     ]
    }
   ],
   "source": [
    "\n",
    "bios_with_claims = []\n",
    "## Create a DataLoader object\n",
    "for  index, row in tqdm(arabic_bios.iterrows(), total=arabic_bios.shape[0]):\n",
    "\n",
    "    question = row['question']\n",
    "    bio = row['bio']\n",
    "\n",
    "    \n",
    "    encoded = tokenizer([bio], padding=True, return_tensors=\"pt\")\n",
    "    deps = {\"greedy_tokens\": encoded.input_ids, \"greedy_texts\": [bio]}\n",
    "    claims = calc_claim_extractor(deps, texts=[bio], model=model_adapter,language=\"ar\")\n",
    "    \n",
    "    for x in claims['claims'][0]:\n",
    "        bios_with_claims.append({'question': question, 'bio': bio, \"claim\": x.claim_text, \"sentence\": x.sentence, \"tokens\": x.aligned_tokens})\n"
   ]
  },
  {
   "cell_type": "code",
   "execution_count": 6,
   "metadata": {},
   "outputs": [],
   "source": [
    "## Save the extracted claims\n",
    "\n",
    "save_df = pd.DataFrame(bios_with_claims, )\n",
    "\n",
    "save_df.to_csv(\"../workdir/arabic_claims.csv\", index=False)"
   ]
  },
  {
   "cell_type": "code",
   "execution_count": 7,
   "metadata": {},
   "outputs": [
    {
     "data": {
      "text/plain": [
       "478"
      ]
     },
     "execution_count": 7,
     "metadata": {},
     "output_type": "execute_result"
    }
   ],
   "source": [
    "len(save_df)"
   ]
  },
  {
   "cell_type": "code",
   "execution_count": 11,
   "metadata": {},
   "outputs": [
    {
     "data": {
      "text/plain": [
       "(97,)"
      ]
     },
     "execution_count": 11,
     "metadata": {},
     "output_type": "execute_result"
    }
   ],
   "source": [
    "save_df['question'].unique().shape"
   ]
  }
 ],
 "metadata": {
  "kernelspec": {
   "display_name": "base",
   "language": "python",
   "name": "python3"
  },
  "language_info": {
   "codemirror_mode": {
    "name": "ipython",
    "version": 3
   },
   "file_extension": ".py",
   "mimetype": "text/x-python",
   "name": "python",
   "nbconvert_exporter": "python",
   "pygments_lexer": "ipython3",
   "version": "3.10.13"
  }
 },
 "nbformat": 4,
 "nbformat_minor": 2
}
