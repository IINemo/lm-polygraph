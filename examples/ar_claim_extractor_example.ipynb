{
 "cells": [
  {
   "cell_type": "code",
   "execution_count": 1,
   "metadata": {},
   "outputs": [
    {
     "name": "stderr",
     "output_type": "stream",
     "text": [
      "/home/boda/miniforge3/lib/python3.10/site-packages/tqdm/auto.py:21: TqdmWarning: IProgress not found. Please update jupyter and ipywidgets. See https://ipywidgets.readthedocs.io/en/stable/user_install.html\n",
      "  from .autonotebook import tqdm as notebook_tqdm\n",
      "/home/boda/miniforge3/lib/python3.10/site-packages/transformers/utils/generic.py:441: UserWarning: torch.utils._pytree._register_pytree_node is deprecated. Please use torch.utils._pytree.register_pytree_node instead.\n",
      "  _torch_pytree._register_pytree_node(\n",
      "/home/boda/miniforge3/lib/python3.10/site-packages/transformers/utils/generic.py:309: UserWarning: torch.utils._pytree._register_pytree_node is deprecated. Please use torch.utils._pytree.register_pytree_node instead.\n",
      "  _torch_pytree._register_pytree_node(\n",
      "/home/boda/miniforge3/lib/python3.10/site-packages/transformers/utils/generic.py:309: UserWarning: torch.utils._pytree._register_pytree_node is deprecated. Please use torch.utils._pytree.register_pytree_node instead.\n",
      "  _torch_pytree._register_pytree_node(\n",
      "/home/boda/miniforge3/lib/python3.10/site-packages/transformers/utils/generic.py:309: UserWarning: torch.utils._pytree._register_pytree_node is deprecated. Please use torch.utils._pytree.register_pytree_node instead.\n",
      "  _torch_pytree._register_pytree_node(\n",
      "/home/boda/miniforge3/lib/python3.10/site-packages/transformers/utils/generic.py:309: UserWarning: torch.utils._pytree._register_pytree_node is deprecated. Please use torch.utils._pytree.register_pytree_node instead.\n",
      "  _torch_pytree._register_pytree_node(\n",
      "/home/boda/miniforge3/lib/python3.10/site-packages/huggingface_hub/file_download.py:1132: FutureWarning: `resume_download` is deprecated and will be removed in version 1.0.0. Downloads always resume when possible. If you want to force a new download, use `force_download=True`.\n",
      "  warnings.warn(\n"
     ]
    }
   ],
   "source": [
    "import os\n",
    "\n",
    "\n",
    "from lm_polygraph.stat_calculators import *\n",
    "from lm_polygraph.utils.openai_chat import OpenAIChat\n",
    "from transformers import AutoTokenizer\n",
    "from lm_polygraph.model_adapters import WhiteBoxModelBasic\n",
    "from torch.utils.data import DataLoader\n",
    "\n",
    "# calc_claim_extractor = ClaimsExtractor(OpenAIChat(\"gpt-3.5-turbo\"))\n",
    "\n",
    "calc_claim_extractor = ClaimsExtractor(OpenAIChat(\"gpt-4\"))\n",
    "\n",
    "\n",
    "model = None\n",
    "tokenizer = AutoTokenizer.from_pretrained(\"core42/jais-13b\", trust_remote_code=True)\n",
    "model_adapter = WhiteBoxModelBasic(model, tokenizer)\n",
    "\n"
   ]
  },
  {
   "cell_type": "code",
   "execution_count": 2,
   "metadata": {},
   "outputs": [],
   "source": [
    "ar_inputs = [\n",
    "\" كان الجاحظ كاتباً وفيلسوفاً مسلماً عاش في بغداد خلال العصر العباسي. كان معروفاً بدهائه وذكائه ، وكان مؤلفاً غزير الإنتاج كتب في مجموعة متنوعة من الموضوعات بما في ذلك الأدب والفلسفة وعلم الكلام. كما عرف بأسلوبه الفريد في الكتابة الذي تضمن استخدام الاستعارات والتشبيهات.\"\n",
    "]"
   ]
  },
  {
   "cell_type": "code",
   "execution_count": 3,
   "metadata": {},
   "outputs": [
    {
     "name": "stdout",
     "output_type": "stream",
     "text": [
      "{'claims': [[Claim(claim_text='الجاحظ كان كاتباً.', sentence=' كان الجاحظ كاتباً وفيلسوفاً مسلماً عاش في بغداد خلال العصر العباسي', aligned_tokens=[0, 1, 2, 3, 4]), Claim(claim_text='الجاحظ كان مسلماً.', sentence=' كان الجاحظ كاتباً وفيلسوفاً مسلماً عاش في بغداد خلال العصر العباسي', aligned_tokens=[0, 1, 2, 10, 11]), Claim(claim_text='الجاحظ عاش في بغداد.', sentence=' كان الجاحظ كاتباً وفيلسوفاً مسلماً عاش في بغداد خلال العصر العباسي', aligned_tokens=[1, 2, 12, 13, 14]), Claim(claim_text='الجاحظ عاش خلال العصر العباسي.', sentence=' كان الجاحظ كاتباً وفيلسوفاً مسلماً عاش في بغداد خلال العصر العباسي', aligned_tokens=[1, 2, 12, 15, 16, 17]), Claim(claim_text='كان معروفاً بدهائه.', sentence=' كان معروفاً بدهائه وذكائه ، وكان مؤلفاً غزير الإنتاج كتب في مجموعة متنوعة من الموضوعات بما في ذلك الأدب والفلسفة وعلم الكلام', aligned_tokens=[19, 20, 21, 22, 23, 24]), Claim(claim_text='كان مؤلفاً غزير الإنتاج.', sentence=' كان معروفاً بدهائه وذكائه ، وكان مؤلفاً غزير الإنتاج كتب في مجموعة متنوعة من الموضوعات بما في ذلك الأدب والفلسفة وعلم الكلام', aligned_tokens=[19, 30, 31, 32, 33, 34, 35]), Claim(claim_text='كتب في مجموعة متنوعة من الموضوعات.', sentence=' كان معروفاً بدهائه وذكائه ، وكان مؤلفاً غزير الإنتاج كتب في مجموعة متنوعة من الموضوعات بما في ذلك الأدب والفلسفة وعلم الكلام', aligned_tokens=[36, 37, 38, 39, 40, 41]), Claim(claim_text='كتب عن الأدب في كتاباته.', sentence=' كان معروفاً بدهائه وذكائه ، وكان مؤلفاً غزير الإنتاج كتب في مجموعة متنوعة من الموضوعات بما في ذلك الأدب والفلسفة وعلم الكلام', aligned_tokens=[36, 45]), Claim(claim_text='المعروف بأسلوبه الفريد في الكتابة.', sentence=' كما عرف بأسلوبه الفريد في الكتابة الذي تضمن استخدام الاستعارات والتشبيهات', aligned_tokens=[51, 52, 53, 54, 55, 56]), Claim(claim_text='يضمن استخدامه للاستعارات في كتاباته.', sentence=' كما عرف بأسلوبه الفريد في الكتابة الذي تضمن استخدام الاستعارات والتشبيهات', aligned_tokens=[58, 59, 60, 61])]], 'claim_texts_concatenated': ['الجاحظ كان كاتباً.', 'الجاحظ كان مسلماً.', 'الجاحظ عاش في بغداد.', 'الجاحظ عاش خلال العصر العباسي.', 'كان معروفاً بدهائه.', 'كان مؤلفاً غزير الإنتاج.', 'كتب في مجموعة متنوعة من الموضوعات.', 'كتب عن الأدب في كتاباته.', 'المعروف بأسلوبه الفريد في الكتابة.', 'يضمن استخدامه للاستعارات في كتاباته.'], 'claim_input_texts_concatenated': [' كان الجاحظ كاتباً وفيلسوفاً مسلماً عاش في بغداد خلال العصر العباسي. كان معروفاً بدهائه وذكائه ، وكان مؤلفاً غزير الإنتاج كتب في مجموعة متنوعة من الموضوعات بما في ذلك الأدب والفلسفة وعلم الكلام. كما عرف بأسلوبه الفريد في الكتابة الذي تضمن استخدام الاستعارات والتشبيهات.', ' كان الجاحظ كاتباً وفيلسوفاً مسلماً عاش في بغداد خلال العصر العباسي. كان معروفاً بدهائه وذكائه ، وكان مؤلفاً غزير الإنتاج كتب في مجموعة متنوعة من الموضوعات بما في ذلك الأدب والفلسفة وعلم الكلام. كما عرف بأسلوبه الفريد في الكتابة الذي تضمن استخدام الاستعارات والتشبيهات.', ' كان الجاحظ كاتباً وفيلسوفاً مسلماً عاش في بغداد خلال العصر العباسي. كان معروفاً بدهائه وذكائه ، وكان مؤلفاً غزير الإنتاج كتب في مجموعة متنوعة من الموضوعات بما في ذلك الأدب والفلسفة وعلم الكلام. كما عرف بأسلوبه الفريد في الكتابة الذي تضمن استخدام الاستعارات والتشبيهات.', ' كان الجاحظ كاتباً وفيلسوفاً مسلماً عاش في بغداد خلال العصر العباسي. كان معروفاً بدهائه وذكائه ، وكان مؤلفاً غزير الإنتاج كتب في مجموعة متنوعة من الموضوعات بما في ذلك الأدب والفلسفة وعلم الكلام. كما عرف بأسلوبه الفريد في الكتابة الذي تضمن استخدام الاستعارات والتشبيهات.', ' كان الجاحظ كاتباً وفيلسوفاً مسلماً عاش في بغداد خلال العصر العباسي. كان معروفاً بدهائه وذكائه ، وكان مؤلفاً غزير الإنتاج كتب في مجموعة متنوعة من الموضوعات بما في ذلك الأدب والفلسفة وعلم الكلام. كما عرف بأسلوبه الفريد في الكتابة الذي تضمن استخدام الاستعارات والتشبيهات.', ' كان الجاحظ كاتباً وفيلسوفاً مسلماً عاش في بغداد خلال العصر العباسي. كان معروفاً بدهائه وذكائه ، وكان مؤلفاً غزير الإنتاج كتب في مجموعة متنوعة من الموضوعات بما في ذلك الأدب والفلسفة وعلم الكلام. كما عرف بأسلوبه الفريد في الكتابة الذي تضمن استخدام الاستعارات والتشبيهات.', ' كان الجاحظ كاتباً وفيلسوفاً مسلماً عاش في بغداد خلال العصر العباسي. كان معروفاً بدهائه وذكائه ، وكان مؤلفاً غزير الإنتاج كتب في مجموعة متنوعة من الموضوعات بما في ذلك الأدب والفلسفة وعلم الكلام. كما عرف بأسلوبه الفريد في الكتابة الذي تضمن استخدام الاستعارات والتشبيهات.', ' كان الجاحظ كاتباً وفيلسوفاً مسلماً عاش في بغداد خلال العصر العباسي. كان معروفاً بدهائه وذكائه ، وكان مؤلفاً غزير الإنتاج كتب في مجموعة متنوعة من الموضوعات بما في ذلك الأدب والفلسفة وعلم الكلام. كما عرف بأسلوبه الفريد في الكتابة الذي تضمن استخدام الاستعارات والتشبيهات.', ' كان الجاحظ كاتباً وفيلسوفاً مسلماً عاش في بغداد خلال العصر العباسي. كان معروفاً بدهائه وذكائه ، وكان مؤلفاً غزير الإنتاج كتب في مجموعة متنوعة من الموضوعات بما في ذلك الأدب والفلسفة وعلم الكلام. كما عرف بأسلوبه الفريد في الكتابة الذي تضمن استخدام الاستعارات والتشبيهات.', ' كان الجاحظ كاتباً وفيلسوفاً مسلماً عاش في بغداد خلال العصر العباسي. كان معروفاً بدهائه وذكائه ، وكان مؤلفاً غزير الإنتاج كتب في مجموعة متنوعة من الموضوعات بما في ذلك الأدب والفلسفة وعلم الكلام. كما عرف بأسلوبه الفريد في الكتابة الذي تضمن استخدام الاستعارات والتشبيهات.']}\n"
     ]
    }
   ],
   "source": [
    "data_loader = DataLoader(ar_inputs, batch_size=2, shuffle=False, collate_fn=lambda x: x)\n",
    "for batch in data_loader:\n",
    "    encoded = tokenizer(batch, padding=True, return_tensors=\"pt\")\n",
    "    deps = {\"greedy_tokens\": encoded.input_ids, \"greedy_texts\": batch}\n",
    "\n",
    "    claims = calc_claim_extractor(deps, texts=batch, model=model_adapter,language=\"ar\")\n",
    "\n",
    "\n",
    "    print(claims)"
   ]
  },
  {
   "cell_type": "code",
   "execution_count": 4,
   "metadata": {},
   "outputs": [
    {
     "data": {
      "text/plain": [
       "10"
      ]
     },
     "execution_count": 4,
     "metadata": {},
     "output_type": "execute_result"
    }
   ],
   "source": [
    "len(claims['claims'][0])"
   ]
  },
  {
   "cell_type": "code",
   "execution_count": 5,
   "metadata": {},
   "outputs": [
    {
     "name": "stdout",
     "output_type": "stream",
     "text": [
      "الجاحظ كان كاتباً.\n",
      " كان الجاحظ كاتباً وفيلسوفاً مسلماً عاش في بغداد خلال العصر العباسي\n",
      "[0, 1, 2, 3, 4]\n",
      "--------------------------------------------------\n",
      "الجاحظ كان مسلماً.\n",
      " كان الجاحظ كاتباً وفيلسوفاً مسلماً عاش في بغداد خلال العصر العباسي\n",
      "[0, 1, 2, 10, 11]\n",
      "--------------------------------------------------\n",
      "الجاحظ عاش في بغداد.\n",
      " كان الجاحظ كاتباً وفيلسوفاً مسلماً عاش في بغداد خلال العصر العباسي\n",
      "[1, 2, 12, 13, 14]\n",
      "--------------------------------------------------\n",
      "الجاحظ عاش خلال العصر العباسي.\n",
      " كان الجاحظ كاتباً وفيلسوفاً مسلماً عاش في بغداد خلال العصر العباسي\n",
      "[1, 2, 12, 15, 16, 17]\n",
      "--------------------------------------------------\n",
      "كان معروفاً بدهائه.\n",
      " كان معروفاً بدهائه وذكائه ، وكان مؤلفاً غزير الإنتاج كتب في مجموعة متنوعة من الموضوعات بما في ذلك الأدب والفلسفة وعلم الكلام\n",
      "[19, 20, 21, 22, 23, 24]\n",
      "--------------------------------------------------\n",
      "كان مؤلفاً غزير الإنتاج.\n",
      " كان معروفاً بدهائه وذكائه ، وكان مؤلفاً غزير الإنتاج كتب في مجموعة متنوعة من الموضوعات بما في ذلك الأدب والفلسفة وعلم الكلام\n",
      "[19, 30, 31, 32, 33, 34, 35]\n",
      "--------------------------------------------------\n",
      "كتب في مجموعة متنوعة من الموضوعات.\n",
      " كان معروفاً بدهائه وذكائه ، وكان مؤلفاً غزير الإنتاج كتب في مجموعة متنوعة من الموضوعات بما في ذلك الأدب والفلسفة وعلم الكلام\n",
      "[36, 37, 38, 39, 40, 41]\n",
      "--------------------------------------------------\n",
      "كتب عن الأدب في كتاباته.\n",
      " كان معروفاً بدهائه وذكائه ، وكان مؤلفاً غزير الإنتاج كتب في مجموعة متنوعة من الموضوعات بما في ذلك الأدب والفلسفة وعلم الكلام\n",
      "[36, 45]\n",
      "--------------------------------------------------\n",
      "المعروف بأسلوبه الفريد في الكتابة.\n",
      " كما عرف بأسلوبه الفريد في الكتابة الذي تضمن استخدام الاستعارات والتشبيهات\n",
      "[51, 52, 53, 54, 55, 56]\n",
      "--------------------------------------------------\n",
      "يضمن استخدامه للاستعارات في كتاباته.\n",
      " كما عرف بأسلوبه الفريد في الكتابة الذي تضمن استخدام الاستعارات والتشبيهات\n",
      "[58, 59, 60, 61]\n",
      "--------------------------------------------------\n"
     ]
    }
   ],
   "source": [
    "for c in claims['claims'][0]:\n",
    "    print(c.claim_text)\n",
    "    print(c.sentence)\n",
    "    print(c.aligned_tokens)\n",
    "    print('-' * 50)\n"
   ]
  },
  {
   "cell_type": "code",
   "execution_count": null,
   "metadata": {},
   "outputs": [],
   "source": []
  },
  {
   "cell_type": "code",
   "execution_count": null,
   "metadata": {},
   "outputs": [],
   "source": []
  }
 ],
 "metadata": {
  "kernelspec": {
   "display_name": "base",
   "language": "python",
   "name": "python3"
  },
  "language_info": {
   "codemirror_mode": {
    "name": "ipython",
    "version": 3
   },
   "file_extension": ".py",
   "mimetype": "text/x-python",
   "name": "python",
   "nbconvert_exporter": "python",
   "pygments_lexer": "ipython3",
   "version": "3.10.13"
  }
 },
 "nbformat": 4,
 "nbformat_minor": 2
}
