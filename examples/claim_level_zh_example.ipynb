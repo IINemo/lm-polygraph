{
 "cells": [
  {
   "cell_type": "code",
   "execution_count": 5,
   "id": "4c2302d3-10a1-4427-84e1-3f39913142f2",
   "metadata": {},
   "outputs": [
    {
     "name": "stdout",
     "output_type": "stream",
     "text": [
      "The autoreload extension is already loaded. To reload it, use:\n",
      "  %reload_ext autoreload\n"
     ]
    }
   ],
   "source": [
    "%load_ext autoreload\n",
    "%autoreload 2"
   ]
  },
  {
   "cell_type": "code",
   "execution_count": 35,
   "id": "b5465947",
   "metadata": {},
   "outputs": [],
   "source": [
    "import os\n",
    "import sys\n",
    "sys.path.append('../src')\n",
    "\n",
    "from lm_polygraph.utils.model import WhiteboxModel\n",
    "from lm_polygraph.estimators import *\n",
    "from lm_polygraph.stat_calculators import *\n",
    "from lm_polygraph.utils.openai_chat import OpenAIChat\n",
    "from lm_polygraph.utils.deberta import Deberta"
   ]
  },
  {
   "cell_type": "code",
   "execution_count": 36,
   "id": "3b7ae864",
   "metadata": {
    "scrolled": true
   },
   "outputs": [
    {
     "name": "stderr",
     "output_type": "stream",
     "text": [
      "Loading checkpoint shards: 100%|██████████| 2/2 [00:06<00:00,  3.19s/it]\n"
     ]
    }
   ],
   "source": [
    "bloomz=\"bigscience/bloomz-560m\"\n",
    "yi6bchat=\"01-ai/Yi-6B-Chat\"\n",
    "yi6b=\"01-ai/Yi-6B\"\n",
    "t5base='google-t5/t5-base'\n",
    "model = WhiteboxModel.from_pretrained(yi6b)"
   ]
  },
  {
   "cell_type": "code",
   "execution_count": 55,
   "id": "802f4378",
   "metadata": {
    "scrolled": true
   },
   "outputs": [],
   "source": [
    "texts = [\"请告诉我爱因斯坦的生平。\"]\n",
    "stat = {}\n",
    "\n",
    "# MBZ Budget\n",
    "os.environ[\"OPENAI_KEY\"] = \"YOUR_API_KEY\"\n",
    "\n",
    "for calculator in [\n",
    "    GreedyProbsCalculator(),\n",
    "    EntropyCalculator(),\n",
    "    GreedyLMProbsCalculator(),\n",
    "    ClaimsExtractorZH(OpenAIChat(\"gpt-4o\")),\n",
    "]:\n",
    "    stat.update(calculator(stat, texts, model))"
   ]
  },
  {
   "cell_type": "code",
   "execution_count": 40,
   "id": "fade0e70-9077-4ccd-beb2-6b9b36cc954a",
   "metadata": {},
   "outputs": [
    {
     "data": {
      "text/plain": [
       "dict_keys(['input_texts', 'input_tokens', 'greedy_log_probs', 'greedy_tokens', 'greedy_tokens_alternatives', 'greedy_texts', 'greedy_log_likelihoods', 'embeddings_decoder', 'entropy', 'greedy_lm_log_probs', 'greedy_lm_log_likelihoods', 'claims', 'claim_texts_concatenated', 'claim_input_texts_concatenated'])"
      ]
     },
     "execution_count": 40,
     "metadata": {},
     "output_type": "execute_result"
    }
   ],
   "source": [
    "stat.keys()"
   ]
  },
  {
   "cell_type": "code",
   "execution_count": 41,
   "id": "cde52623-aac2-4315-9e32-a1fc93e0de59",
   "metadata": {},
   "outputs": [
    {
     "name": "stdout",
     "output_type": "stream",
     "text": [
      "Output: \n",
      "爱因斯坦是20世纪最伟大的科学家之一。他出生于德国，后来移居美国。他最著名的发现是相对论，这是关于时间和空间的理论。相对论解释了为什么物体在不同的参考框架下看起来不同。\n",
      "爱因斯坦还提出了一个关于宇宙的模型，称为宇宙学常数。宇宙学常数是宇宙中的一种能量，它使宇宙保持膨胀。\n",
      "爱因斯坦也是一位和平主义者，他反对战争和暴力。他\n"
     ]
    }
   ],
   "source": [
    "print(\"Output:\", stat[\"greedy_texts\"][0])"
   ]
  },
  {
   "cell_type": "code",
   "execution_count": 42,
   "id": "a4cf8595-507f-4e0b-8223-eb3f2f6192aa",
   "metadata": {},
   "outputs": [
    {
     "data": {
      "text/plain": [
       "[[Claim(claim_text='爱因斯坦是20世纪最伟大的科学家之一 (Einstein is one of the greatest scientists of the 20th century)', sentence='爱因斯坦是20世纪最伟大的科学家之一', aligned_tokens=[1, 2, 3, 4, 5, 6, 7, 8, 9, 10, 11]),\n",
       "  Claim(claim_text='他出生于德国。', sentence='他出生于德国，后来移居美国', aligned_tokens=[13, 14, 15]),\n",
       "  Claim(claim_text='他后来移居美国。', sentence='他出生于德国，后来移居美国', aligned_tokens=[13, 17, 18, 19, 20]),\n",
       "  Claim(claim_text='他最著名的发现是相对论。', sentence='他最著名的发现是相对论，这是关于时间和空间的理论', aligned_tokens=[22, 23, 24, 25, 26, 27, 28]),\n",
       "  Claim(claim_text='相对论是关于时间和空间的理论。', sentence='他最著名的发现是相对论，这是关于时间和空间的理论', aligned_tokens=[27, 28, 29, 30, 31, 32, 33, 34]),\n",
       "  Claim(claim_text='爱因斯坦提出了一个关于宇宙的模型。', sentence='爱因斯坦还提出了一个关于宇宙的模型，称为宇宙学常数', aligned_tokens=[51, 52, 53, 55, 56, 57, 58, 59, 60]),\n",
       "  Claim(claim_text='这个宇宙模型称为宇宙学常数。', sentence='爱因斯坦还提出了一个关于宇宙的模型，称为宇宙学常数', aligned_tokens=[55, 58, 60, 62, 63, 64, 65, 66]),\n",
       "  Claim(claim_text='宇宙学常数是宇宙中的一种能量。', sentence='宇宙学常数是宇宙中的一种能量，它使宇宙保持膨胀', aligned_tokens=[68, 69, 70, 71, 72, 73, 74, 75, 76]),\n",
       "  Claim(claim_text='宇宙学常数使宇宙保持膨胀。', sentence='宇宙学常数是宇宙中的一种能量，它使宇宙保持膨胀', aligned_tokens=[68, 69, 70, 71, 79, 80, 81, 82]),\n",
       "  Claim(claim_text='爱因斯坦也是一位和平主义者。', sentence='爱因斯坦也是一位和平主义者，他反对战争和暴力', aligned_tokens=[85, 86, 87, 88, 89, 90, 91]),\n",
       "  Claim(claim_text='他反对战争和暴力。', sentence='爱因斯坦也是一位和平主义者，他反对战争和暴力', aligned_tokens=[93, 94, 95, 96, 97])]]"
      ]
     },
     "execution_count": 42,
     "metadata": {},
     "output_type": "execute_result"
    }
   ],
   "source": [
    "stat[\"claims\"]"
   ]
  },
  {
   "cell_type": "code",
   "execution_count": 43,
   "id": "a99e12fa",
   "metadata": {
    "scrolled": true
   },
   "outputs": [
    {
     "name": "stdout",
     "output_type": "stream",
     "text": [
      "Output: \n",
      "爱因斯坦是20世纪最伟大的科学家之一。他出生于德国，后来移居美国。他最著名的发现是相对论，这是关于时间和空间的理论。相对论解释了为什么物体在不同的参考框架下看起来不同。\n",
      "爱因斯坦还提出了一个关于宇宙的模型，称为宇宙学常数。宇宙学常数是宇宙中的一种能量，它使宇宙保持膨胀。\n",
      "爱因斯坦也是一位和平主义者，他反对战争和暴力。他\n",
      "\n",
      "claim: 爱因斯坦是20世纪最伟大的科学家之一 (Einstein is one of the greatest scientists of the 20th century)\n",
      "aligned tokens: [1, 2, 3, 4, 5, 6, 7, 8, 9, 10, 11]\n",
      "\n",
      "claim: 他出生于德国。\n",
      "aligned tokens: [13, 14, 15]\n",
      "\n",
      "claim: 他后来移居美国。\n",
      "aligned tokens: [13, 17, 18, 19, 20]\n",
      "\n",
      "claim: 他最著名的发现是相对论。\n",
      "aligned tokens: [22, 23, 24, 25, 26, 27, 28]\n",
      "\n",
      "claim: 相对论是关于时间和空间的理论。\n",
      "aligned tokens: [27, 28, 29, 30, 31, 32, 33, 34]\n",
      "\n",
      "claim: 爱因斯坦提出了一个关于宇宙的模型。\n",
      "aligned tokens: [51, 52, 53, 55, 56, 57, 58, 59, 60]\n",
      "\n",
      "claim: 这个宇宙模型称为宇宙学常数。\n",
      "aligned tokens: [55, 58, 60, 62, 63, 64, 65, 66]\n",
      "\n",
      "claim: 宇宙学常数是宇宙中的一种能量。\n",
      "aligned tokens: [68, 69, 70, 71, 72, 73, 74, 75, 76]\n",
      "\n",
      "claim: 宇宙学常数使宇宙保持膨胀。\n",
      "aligned tokens: [68, 69, 70, 71, 79, 80, 81, 82]\n",
      "\n",
      "claim: 爱因斯坦也是一位和平主义者。\n",
      "aligned tokens: [85, 86, 87, 88, 89, 90, 91]\n",
      "\n",
      "claim: 他反对战争和暴力。\n",
      "aligned tokens: [93, 94, 95, 96, 97]\n",
      "\n"
     ]
    }
   ],
   "source": [
    "print(\"Output:\", stat[\"greedy_texts\"][0])\n",
    "print()\n",
    "for claim in stat[\"claims\"][0]:\n",
    "    print(\"claim:\", claim.claim_text)\n",
    "    print(\"aligned tokens:\", claim.aligned_tokens)\n",
    "    print()"
   ]
  },
  {
   "cell_type": "code",
   "execution_count": 44,
   "id": "6750525d",
   "metadata": {},
   "outputs": [
    {
     "data": {
      "text/plain": [
       "[[9.15032,\n",
       "  2.5996523,\n",
       "  3.6599393,\n",
       "  4.1937156,\n",
       "  3.9621964,\n",
       "  7.373639,\n",
       "  6.902459,\n",
       "  7.0768847,\n",
       "  4.5712223,\n",
       "  5.221211,\n",
       "  2.64916]]"
      ]
     },
     "execution_count": 44,
     "metadata": {},
     "output_type": "execute_result"
    }
   ],
   "source": [
    "# Maximum Claim Probability\n",
    "max_prob = MaximumClaimProbability()\n",
    "max_prob(stat)  # Uncertainty for each claim, the higher, the less certain"
   ]
  },
  {
   "cell_type": "code",
   "execution_count": 45,
   "id": "85be9f76-3f50-4b32-8867-45849fab8eb8",
   "metadata": {},
   "outputs": [
    {
     "data": {
      "text/plain": [
       "[[0.83184725,\n",
       "  0.86655074,\n",
       "  0.73198783,\n",
       "  0.5991022,\n",
       "  0.49527454,\n",
       "  0.81929326,\n",
       "  0.8628074,\n",
       "  0.7863205,\n",
       "  0.5714028,\n",
       "  0.7458873,\n",
       "  0.529832]]"
      ]
     },
     "execution_count": 45,
     "metadata": {},
     "output_type": "execute_result"
    }
   ],
   "source": [
    "# Perlexity\n",
    "perlexity_claim = PerplexityClaim()\n",
    "perlexity_claim (stat)  "
   ]
  },
  {
   "cell_type": "code",
   "execution_count": 46,
   "id": "a7b4a46a-37e9-4a8d-b583-c43cb0f94692",
   "metadata": {},
   "outputs": [
    {
     "data": {
      "text/plain": [
       "[[9.630264e-05,\n",
       "  5.6034038e-05,\n",
       "  5.822308e-05,\n",
       "  4.9475246e-05,\n",
       "  3.536535e-05,\n",
       "  6.105189e-05,\n",
       "  4.9426806e-05,\n",
       "  5.4046533e-05,\n",
       "  5.5341734e-05,\n",
       "  6.217576e-05,\n",
       "  4.5716315e-05]]"
      ]
     },
     "execution_count": 46,
     "metadata": {},
     "output_type": "execute_result"
    }
   ],
   "source": [
    "# Maximum Token Entropy\n",
    "max_token_ent = MaxTokenEntropyClaim()\n",
    "max_token_ent(stat)  "
   ]
  },
  {
   "cell_type": "code",
   "execution_count": 47,
   "id": "2f118841-c40b-4d04-b06f-da7a6b1c287c",
   "metadata": {},
   "outputs": [
    {
     "data": {
      "text/plain": [
       "[[-89.4129597437568,\n",
       "  -22.095426440238953,\n",
       "  -51.429990143074974,\n",
       "  -60.632449470926076,\n",
       "  -74.90013891877607,\n",
       "  -85.43223065073835,\n",
       "  -79.52460282295942,\n",
       "  -89.83499697875232,\n",
       "  -79.84369652252644,\n",
       "  -83.814247633185,\n",
       "  -51.42439520359039]]"
      ]
     },
     "execution_count": 47,
     "metadata": {},
     "output_type": "execute_result"
    }
   ],
   "source": [
    "# Pointwise Mutual Information\n",
    "pmi = PointwiseMutualInformationClaim()\n",
    "pmi (stat)  "
   ]
  },
  {
   "cell_type": "code",
   "execution_count": null,
   "id": "ef7ffc38-e905-42eb-aa48-5dee774afed1",
   "metadata": {},
   "outputs": [],
   "source": [
    "# PTrue\n",
    "ptrue_claim = PTrueClaim()\n",
    "ptrue_claim (stat)  "
   ]
  },
  {
   "cell_type": "code",
   "execution_count": 50,
   "id": "42d9982a",
   "metadata": {
    "scrolled": true
   },
   "outputs": [
    {
     "name": "stderr",
     "output_type": "stream",
     "text": [
      "Some weights of the model checkpoint at microsoft/deberta-large-mnli were not used when initializing DebertaForSequenceClassification: ['config']\n",
      "- This IS expected if you are initializing DebertaForSequenceClassification from the checkpoint of a model trained on another task or with another architecture (e.g. initializing a BertForSequenceClassification model from a BertForPreTraining model).\n",
      "- This IS NOT expected if you are initializing DebertaForSequenceClassification from the checkpoint of a model that you expect to be exactly identical (initializing a BertForSequenceClassification model from a BertForSequenceClassification model).\n"
     ]
    },
    {
     "data": {
      "text/plain": [
       "[[-0.15428198137588467,\n",
       "  -0.4318708127649298,\n",
       "  -0.253301021331539,\n",
       "  -0.09535603802837331,\n",
       "  -0.38951637326766053,\n",
       "  -0.026856740523962707,\n",
       "  -0.028044031367529594,\n",
       "  -0.22157261542817722,\n",
       "  -0.09482840722851234,\n",
       "  -0.15285421460513693,\n",
       "  -0.29148094748025727]]"
      ]
     },
     "execution_count": 50,
     "metadata": {},
     "output_type": "execute_result"
    }
   ],
   "source": [
    "# Claim Conditional Probability\n",
    "for calculator in [\n",
    "    GreedyAlternativesNLICalculator(Deberta())\n",
    "]:\n",
    "    stat.update(calculator(stat, texts, model))\n",
    "\n",
    "ccp = ClaimConditionedProbabilityClaim()\n",
    "ccp (stat)"
   ]
  },
  {
   "cell_type": "code",
   "execution_count": 56,
   "id": "11d1a0d7",
   "metadata": {},
   "outputs": [
    {
     "name": "stderr",
     "output_type": "stream",
     "text": [
      "Some weights of the model checkpoint at microsoft/deberta-large-mnli were not used when initializing DebertaForSequenceClassification: ['config']\n",
      "- This IS expected if you are initializing DebertaForSequenceClassification from the checkpoint of a model trained on another task or with another architecture (e.g. initializing a BertForSequenceClassification model from a BertForPreTraining model).\n",
      "- This IS NOT expected if you are initializing DebertaForSequenceClassification from the checkpoint of a model that you expect to be exactly identical (initializing a BertForSequenceClassification model from a BertForSequenceClassification model).\n"
     ]
    },
    {
     "data": {
      "text/plain": [
       "[[-0.12256296768203385,\n",
       "  -0.4822848072969042,\n",
       "  -0.2147843373697047,\n",
       "  -0.1263379081992669,\n",
       "  -0.43983054023238666,\n",
       "  -0.15131233466549612,\n",
       "  -0.17052237959675,\n",
       "  -0.30663000768791043,\n",
       "  -0.08706429301720559,\n",
       "  -0.40767766350920437,\n",
       "  -0.3009146323199406]]"
      ]
     },
     "execution_count": 56,
     "metadata": {},
     "output_type": "execute_result"
    }
   ],
   "source": [
    "for calculator in [\n",
    "    GreedyAlternativesFactPrefNLICalculator(Deberta())\n",
    "]:\n",
    "    stat.update(calculator(stat, texts, model))\n",
    "\n",
    "ccp_no_cxt=ClaimConditionedProbabilityClaim(nli_context=\"fact_pref\")\n",
    "ccp_no_cxt (stat)"
   ]
  },
  {
   "cell_type": "code",
   "execution_count": null,
   "id": "e852a2cc-b319-490e-8ae7-e258dd4b41cb",
   "metadata": {},
   "outputs": [],
   "source": []
  }
 ],
 "metadata": {
  "kernelspec": {
   "display_name": "Python 3 (ipykernel)",
   "language": "python",
   "name": "python3"
  },
  "language_info": {
   "codemirror_mode": {
    "name": "ipython",
    "version": 3
   },
   "file_extension": ".py",
   "mimetype": "text/x-python",
   "name": "python",
   "nbconvert_exporter": "python",
   "pygments_lexer": "ipython3",
   "version": "3.10.0"
  }
 },
 "nbformat": 4,
 "nbformat_minor": 5
}
