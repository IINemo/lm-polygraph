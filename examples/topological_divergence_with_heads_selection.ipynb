{
 "cells": [
  {
   "cell_type": "code",
   "execution_count": 1,
   "id": "bd1b5660",
   "metadata": {},
   "outputs": [
    {
     "name": "stderr",
     "output_type": "stream",
     "text": [
      "/Users/ahdr3w/.pyenv/versions/3.10.11/lib/python3.10/site-packages/tqdm/auto.py:21: TqdmWarning: IProgress not found. Please update jupyter and ipywidgets. See https://ipywidgets.readthedocs.io/en/stable/user_install.html\n",
      "  from .autonotebook import tqdm as notebook_tqdm\n"
     ]
    }
   ],
   "source": [
    "from time import time\n",
    "from transformers import AutoModelForCausalLM, AutoTokenizer\n",
    "\n",
    "from lm_polygraph.estimators import TopologicalDivergence\n",
    "\n",
    "from lm_polygraph.utils import WhiteboxModel, UEManager, Dataset\n",
    "from lm_polygraph.utils.builder_enviroment_stat_calculator import BuilderEnvironmentStatCalculator\n",
    "from lm_polygraph.utils.factory_stat_calculator import StatCalculatorContainer\n",
    "from lm_polygraph.utils.estimate_uncertainty import UncertaintyOutput\n",
    "\n",
    "from lm_polygraph.defaults.register_default_stat_calculators import (\n",
    "    register_default_stat_calculators,\n",
    ")\n",
    "from lm_polygraph.stat_calculators import TrainMTopDivCalculator\n"
   ]
  },
  {
   "cell_type": "code",
   "execution_count": 2,
   "id": "8d4148d7",
   "metadata": {},
   "outputs": [],
   "source": [
    "def estimate_uncertainty(\n",
    "    model, estimator, available_stat_calculators, input_text: str\n",
    ") -> UncertaintyOutput:\n",
    "    man = UEManager(\n",
    "        Dataset([input_text], [\"\"], batch_size=1),\n",
    "        model,\n",
    "        [estimator],\n",
    "        available_stat_calculators=available_stat_calculators,\n",
    "        builder_env_stat_calc=BuilderEnvironmentStatCalculator(model),\n",
    "        generation_metrics=[],\n",
    "        ue_metrics=[],\n",
    "        processors=[],\n",
    "        ignore_exceptions=False,\n",
    "        verbose=False,\n",
    "    )\n",
    "    man()\n",
    "    ue = man.estimations[estimator.level, str(estimator)]\n",
    "    texts = man.stats.get(\"greedy_texts\", None)\n",
    "    tokens = man.stats.get(\"greedy_tokens\", None)\n",
    "    if tokens is not None and len(tokens) > 0:\n",
    "        # Remove last token, which is the end of the sequence token\n",
    "        # since we don't include it's uncertainty in the estimator's output\n",
    "        tokens = tokens[0][:-1]\n",
    "    return UncertaintyOutput(\n",
    "        ue[0], input_text, texts[0], tokens, model.model_path, str(estimator)\n",
    "    )\n"
   ]
  },
  {
   "cell_type": "code",
   "execution_count": 3,
   "id": "430d4c18",
   "metadata": {},
   "outputs": [],
   "source": [
    "class Config:\n",
    "    model_name = 'Qwen/Qwen2.5-0.5B-Instruct'\n",
    "    train_dataset = '../../coqa_Meta-Llama-3-8B-Instruct.csv'\n",
    "    context_column = 'context'\n",
    "    question_column = 'question'\n",
    "    prompt_column = 'prompt'\n",
    "    response_column = 'generated_answer'\n",
    "    label_column = 'hallucination'\n",
    "    batch_size = 1\n",
    "    subsample_train_dataset = 4\n",
    "    seed = 52\n",
    "    device_map = 'mps'       \n",
    "    max_heads = 6\n",
    "    n_jobs = -1\n",
    "\n",
    "cfg = Config()\n",
    "\n",
    "base_model = AutoModelForCausalLM.from_pretrained(\n",
    "    cfg.model_name,\n",
    "    device_map=cfg.device_map,\n",
    ")\n",
    "tokenizer = AutoTokenizer.from_pretrained(cfg.model_name)\n",
    "model = WhiteboxModel(base_model, tokenizer)\n",
    "available_stat_calculators = (\n",
    "    register_default_stat_calculators(\"Whitebox\")\n",
    ")\n",
    "sc = StatCalculatorContainer(\n",
    "    name=TrainMTopDivCalculator.__name__,\n",
    "    obj=TrainMTopDivCalculator,\n",
    "    builder=\"lm_polygraph.defaults.stat_calculator_builders.default_TrainMTopDivCalculator\",\n",
    "    cfg=cfg,\n",
    "    dependencies=TrainMTopDivCalculator.meta_info()[1],\n",
    "    stats=TrainMTopDivCalculator.meta_info()[0],\n",
    ")\n",
    "available_stat_calculators.append(sc)\n"
   ]
  },
  {
   "cell_type": "code",
   "execution_count": 4,
   "id": "5f927bc7",
   "metadata": {},
   "outputs": [
    {
     "name": "stderr",
     "output_type": "stream",
     "text": [
      "  0%|          | 0/4 [00:00<?, ?it/s]`torch.nn.functional.scaled_dot_product_attention` does not support `output_attentions=True`. Falling back to eager attention. This warning can be removed using the argument `attn_implementation=\"eager\"` when loading the model.\n",
      "100%|██████████| 4/4 [00:43<00:00, 10.77s/it]\n"
     ]
    },
    {
     "name": "stdout",
     "output_type": "stream",
     "text": [
      "UncertaintyOutput(uncertainty=11.994889825582504, input_text='How many floors are in the Empire State Building?', generation_text='The Empire State Building has 105 floors.', generation_tokens=[785, 20448, 3234, 16858, 702, 220, 16, 15, 20, 25945, 13], model_path=None, estimator='TopologicalDivergence')\n",
      "Time taken: 53.50 seconds\n",
      "Best heads: [(8, 3), (0, 1)]\n"
     ]
    }
   ],
   "source": [
    "selected_heads = None\n",
    "input_text = 'How many floors are in the Empire State Building?'\n",
    "\n",
    "estimator = TopologicalDivergence(\n",
    "    heads=selected_heads,\n",
    "    max_heads=cfg.max_heads,\n",
    "    n_jobs=cfg.n_jobs\n",
    ")\n",
    "\n",
    "start = time()\n",
    "print(estimate_uncertainty(\n",
    "    model,\n",
    "    estimator,\n",
    "    available_stat_calculators,\n",
    "    input_text\n",
    "))\n",
    "print(f\"Time taken: {time() - start:.2f} seconds\")\n",
    "print(f\"Best heads: {estimator.best_heads}\")"
   ]
  },
  {
   "cell_type": "code",
   "execution_count": 5,
   "id": "6e97dbdb",
   "metadata": {},
   "outputs": [
    {
     "name": "stdout",
     "output_type": "stream",
     "text": [
      "UncertaintyOutput(uncertainty=87.97025752067566, input_text='What has a head and a tail but no body?', generation_text=\"The answer to this question is a virus. Viruses are small, non-living entities that can only replicate within living cells. They do not have a head or a tail, but they can cause harm to living organisms by attaching to and hijacking the host cell's machinery. Viruses are a significant threat to public health and can cause a wide range of diseases, including but not limited to, influenza, HIV, and cancer.\", generation_tokens=[785, 4226, 311, 419, 3405, 374, 264, 16770, 13, 9542, 4776, 525, 2613, 11, 2477, 2852, 2249, 14744, 429, 646, 1172, 45013, 2878, 5382, 7761, 13, 2379, 653, 537, 614, 264, 1968, 476, 264, 9787, 11, 714, 807, 646, 5240, 11428, 311, 5382, 43204, 553, 71808, 311, 323, 21415, 8985, 279, 3468, 2779, 594, 25868, 13, 9542, 4776, 525, 264, 5089, 5899, 311, 584, 2820, 323, 646, 5240, 264, 6884, 2088, 315, 18808, 11, 2670, 714, 537, 7199, 311, 11, 61837, 11, 22664, 11, 323, 9387, 13], model_path=None, estimator='TopologicalDivergence')\n",
      "Time taken: 14.12 seconds\n"
     ]
    }
   ],
   "source": [
    "input_text = 'What has a head and a tail but no body?'\n",
    "\n",
    "start = time()\n",
    "print(estimate_uncertainty(\n",
    "    model,\n",
    "    estimator,\n",
    "    available_stat_calculators,\n",
    "    input_text\n",
    "))\n",
    "print(f\"Time taken: {time() - start:.2f} seconds\")"
   ]
  }
 ],
 "metadata": {
  "kernelspec": {
   "display_name": "Python 3",
   "language": "python",
   "name": "python3"
  },
  "language_info": {
   "codemirror_mode": {
    "name": "ipython",
    "version": 3
   },
   "file_extension": ".py",
   "mimetype": "text/x-python",
   "name": "python",
   "nbconvert_exporter": "python",
   "pygments_lexer": "ipython3",
   "version": "3.10.11"
  }
 },
 "nbformat": 4,
 "nbformat_minor": 5
}
