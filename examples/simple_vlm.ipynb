{
 "cells": [
  {
   "cell_type": "code",
   "execution_count": 1,
   "metadata": {},
   "outputs": [
    {
     "name": "stderr",
     "output_type": "stream",
     "text": [
      "/home/jovyan/.mlspace/envs/focus_new/lib/python3.10/site-packages/tqdm/auto.py:21: TqdmWarning: IProgress not found. Please update jupyter and ipywidgets. See https://ipywidgets.readthedocs.io/en/stable/user_install.html\n",
      "  from .autonotebook import tqdm as notebook_tqdm\n"
     ]
    }
   ],
   "source": [
    "from typing import Any, Dict, List, Optional, Union, Tuple\n",
    "\n",
    "import requests\n",
    "import torch\n",
    "from lm_polygraph import estimate_uncertainty\n",
    "from lm_polygraph.estimators import *\n",
    "from lm_polygraph.model_adapters.whitebox_visual import VisualWhiteboxModel\n",
    "from PIL import Image\n",
    "\n",
    "%load_ext autoreload\n",
    "%autoreload 2\n",
    "from transformers import (\n",
    "    AutoModelForCausalLM,\n",
    "    AutoModelForVision2Seq,\n",
    "    AutoProcessor,\n",
    "    AutoTokenizer,\n",
    ")\n",
    "from dataclasses import dataclass\n",
    "import numpy as np"
   ]
  },
  {
   "cell_type": "code",
   "execution_count": 3,
   "metadata": {},
   "outputs": [
    {
     "name": "stderr",
     "output_type": "stream",
     "text": [
      "Keyword argument `return_dict` is not a valid argument for this processor and will be ignored.\n"
     ]
    },
    {
     "name": "stdout",
     "output_type": "stream",
     "text": [
      "Uncertainty estimation: UncertaintyOutput(uncertainty=array([-0.43950686, -0.55753523, -0.7364028 , -0.63372934, -1.        ,\n",
      "       -0.96391106, -0.89820856, -0.9997953 , -0.34002206, -0.40260765,\n",
      "       -0.31840694, -0.872435  , -0.85644513, -0.47168002, -0.9281716 ,\n",
      "       -1.        , -0.08342137, -0.12618384, -0.99650866], dtype=float32), input_text=['<grounding>An image of'], generation_text='<phrase> A snowman</phrase><object><patch_index_0044><patch_index_0863></object> is sitting by<phrase> a campfire</phrase><object><patch_index_0005><patch_index_1007></object> in', generation_tokens=[64007, 95, 43867, 64008, 64009, 64057, 64876, 64010, 17, 1280, 32, 64007, 10, 30879, 64008, 64009, 64018, 65020, 64010], model_path=None, estimator='MaximumTokenProbability')\n"
     ]
    }
   ],
   "source": [
    "base_model = AutoModelForVision2Seq.from_pretrained(\"microsoft/kosmos-2-patch14-224\")\n",
    "processor = AutoProcessor.from_pretrained(\"microsoft/kosmos-2-patch14-224\")\n",
    "\n",
    "# Create whitebox model with image\n",
    "url = \"https://huggingface.co/microsoft/kosmos-2-patch14-224/resolve/main/snowman.png\"\n",
    "model = VisualWhiteboxModel(base_model, processor, image_urls=[url])\n",
    "\n",
    "# Test with input text\n",
    "input_text = [\"<grounding>An image of\"]\n",
    "\n",
    "estimator = MaximumTokenProbability()\n",
    "uncertainty = estimate_uncertainty(model, estimator, input_text=input_text)\n",
    "print(\"Uncertainty estimation:\", uncertainty)"
   ]
  },
  {
   "cell_type": "code",
   "execution_count": 4,
   "metadata": {},
   "outputs": [
    {
     "data": {
      "text/plain": [
       "UncertaintyOutput(uncertainty=1.3938682079315186, input_text=['<grounding>An image of'], generation_text='<phrase> A snowman</phrase><object><patch_index_0044><patch_index_0863></object> is sitting by<phrase> a campfire</phrase><object><patch_index_0005><patch_index_1007></object> in', generation_tokens=[64007, 95, 43867, 64008, 64009, 64057, 64876, 64010, 17, 1280, 32, 64007, 10, 30879, 64008, 64009, 64018, 65020, 64010], model_path=None, estimator='MeanTokenEntropy')"
      ]
     },
     "execution_count": 4,
     "metadata": {},
     "output_type": "execute_result"
    }
   ],
   "source": [
    "estimator = MeanTokenEntropy()\n",
    "estimate_uncertainty(model, estimator, input_text=input_text)"
   ]
  },
  {
   "cell_type": "code",
   "execution_count": 4,
   "metadata": {},
   "outputs": [
    {
     "data": {
      "text/plain": [
       "UncertaintyOutput(uncertainty=-10.939052410294972, input_text=['<grounding>An image of'], generation_text='<phrase> A snowman</phrase><object><patch_index_0044><patch_index_0863></object> is sitting by<phrase> a campfire</phrase><object><patch_index_0005><patch_index_1007></object> in', generation_tokens=[64007, 95, 43867, 64008, 64009, 64057, 64876, 64010, 17, 1280, 32, 64007, 10, 30879, 64008, 64009, 64018, 65020, 64010], model_path=None, estimator='MeanPointwiseMutualInformation')"
      ]
     },
     "execution_count": 4,
     "metadata": {},
     "output_type": "execute_result"
    }
   ],
   "source": [
    "estimator = MeanPointwiseMutualInformation()\n",
    "estimate_uncertainty(model, estimator, input_text=input_text)"
   ]
  },
  {
   "cell_type": "code",
   "execution_count": 5,
   "metadata": {},
   "outputs": [
    {
     "data": {
      "text/plain": [
       "UncertaintyOutput(uncertainty=-30.574629399421177, input_text=['<grounding>An image of'], generation_text='<phrase> A snowman</phrase><object><patch_index_0044><patch_index_0863></object> is sitting by<phrase> a campfire</phrase><object><patch_index_0005><patch_index_1007></object> in', generation_tokens=[64007, 95, 43867, 64008, 64009, 64057, 64876, 64010, 17, 1280, 32, 64007, 10, 30879, 64008, 64009, 64018, 65020, 64010], model_path=None, estimator='MeanConditionalPointwiseMutualInformation')"
      ]
     },
     "execution_count": 5,
     "metadata": {},
     "output_type": "execute_result"
    }
   ],
   "source": [
    "estimator = MeanConditionalPointwiseMutualInformation()\n",
    "estimate_uncertainty(model, estimator, input_text=input_text)"
   ]
  },
  {
   "cell_type": "code",
   "execution_count": 6,
   "metadata": {},
   "outputs": [
    {
     "name": "stderr",
     "output_type": "stream",
     "text": [
      "Some weights of the model checkpoint at microsoft/deberta-large-mnli were not used when initializing DebertaForSequenceClassification: ['config']\n",
      "- This IS expected if you are initializing DebertaForSequenceClassification from the checkpoint of a model trained on another task or with another architecture (e.g. initializing a BertForSequenceClassification model from a BertForPreTraining model).\n",
      "- This IS NOT expected if you are initializing DebertaForSequenceClassification from the checkpoint of a model that you expect to be exactly identical (initializing a BertForSequenceClassification model from a BertForSequenceClassification model).\n"
     ]
    },
    {
     "data": {
      "text/plain": [
       "UncertaintyOutput(uncertainty=-0.0024776310887388783, input_text=['<grounding>An image of'], generation_text='<phrase> A snowman</phrase><object><patch_index_0044><patch_index_0863></object> is sitting by<phrase> a campfire</phrase><object><patch_index_0005><patch_index_1007></object> in', generation_tokens=[64007, 95, 43867, 64008, 64009, 64057, 64876, 64010, 17, 1280, 32, 64007, 10, 30879, 64008, 64009, 64018, 65020, 64010], model_path=None, estimator='CCP')"
      ]
     },
     "execution_count": 6,
     "metadata": {},
     "output_type": "execute_result"
    }
   ],
   "source": [
    "estimator = ClaimConditionedProbability()\n",
    "estimate_uncertainty(model, estimator, input_text=input_text)"
   ]
  },
  {
   "cell_type": "code",
   "execution_count": 7,
   "metadata": {},
   "outputs": [
    {
     "data": {
      "text/plain": [
       "UncertaintyOutput(uncertainty=1.4882061961428483, input_text=['<grounding>An image of'], generation_text='<phrase> A snowman</phrase><object><patch_index_0044><patch_index_0863></object> is sitting by<phrase> a campfire</phrase><object><patch_index_0005><patch_index_1007></object> in', generation_tokens=[64007, 95, 43867, 64008, 64009, 64057, 64876, 64010, 17, 1280, 32, 64007, 10, 30879, 64008, 64009, 64018, 65020, 64010], model_path=None, estimator='MonteCarloNormalizedSequenceEntropy')"
      ]
     },
     "execution_count": 7,
     "metadata": {},
     "output_type": "execute_result"
    }
   ],
   "source": [
    "estimator = MonteCarloNormalizedSequenceEntropy()\n",
    "estimate_uncertainty(model, estimator, input_text=input_text)"
   ]
  },
  {
   "cell_type": "code",
   "execution_count": 8,
   "metadata": {},
   "outputs": [
    {
     "data": {
      "text/plain": [
       "UncertaintyOutput(uncertainty=38.14663201745516, input_text=['<grounding>An image of'], generation_text='<phrase> A snowman</phrase><object><patch_index_0044><patch_index_0863></object> is sitting by<phrase> a campfire</phrase><object><patch_index_0005><patch_index_1007></object> in', generation_tokens=[64007, 95, 43867, 64008, 64009, 64057, 64876, 64010, 17, 1280, 32, 64007, 10, 30879, 64008, 64009, 64018, 65020, 64010], model_path=None, estimator='MonteCarloSequenceEntropy')"
      ]
     },
     "execution_count": 8,
     "metadata": {},
     "output_type": "execute_result"
    }
   ],
   "source": [
    "estimator = MonteCarloSequenceEntropy()\n",
    "estimate_uncertainty(model, estimator, input_text=input_text)"
   ]
  },
  {
   "cell_type": "code",
   "execution_count": 9,
   "metadata": {},
   "outputs": [
    {
     "data": {
      "text/plain": [
       "UncertaintyOutput(uncertainty=-0.4925284515074195, input_text=['<grounding>An image of'], generation_text='<phrase> A snowman</phrase><object><patch_index_0044><patch_index_0863></object> is sitting by<phrase> a campfire</phrase><object><patch_index_0005><patch_index_1007></object> in', generation_tokens=[64007, 95, 43867, 64008, 64009, 64057, 64876, 64010, 17, 1280, 32, 64007, 10, 30879, 64008, 64009, 64018, 65020, 64010], model_path=None, estimator='LexicalSimilarity_rouge1')"
      ]
     },
     "execution_count": 9,
     "metadata": {},
     "output_type": "execute_result"
    }
   ],
   "source": [
    "estimator = LexicalSimilarity(metric=\"rouge1\")\n",
    "estimate_uncertainty(model, estimator, input_text=input_text)"
   ]
  },
  {
   "cell_type": "code",
   "execution_count": 10,
   "metadata": {},
   "outputs": [
    {
     "data": {
      "text/plain": [
       "UncertaintyOutput(uncertainty=-0.2044491397666343, input_text=['<grounding>An image of'], generation_text='<phrase> A snowman</phrase><object><patch_index_0044><patch_index_0863></object> is sitting by<phrase> a campfire</phrase><object><patch_index_0005><patch_index_1007></object> in', generation_tokens=[64007, 95, 43867, 64008, 64009, 64057, 64876, 64010, 17, 1280, 32, 64007, 10, 30879, 64008, 64009, 64018, 65020, 64010], model_path=None, estimator='LexicalSimilarity_rouge2')"
      ]
     },
     "execution_count": 10,
     "metadata": {},
     "output_type": "execute_result"
    }
   ],
   "source": [
    "estimator = LexicalSimilarity(metric=\"rouge2\")\n",
    "estimate_uncertainty(model, estimator, input_text=input_text)"
   ]
  },
  {
   "cell_type": "code",
   "execution_count": null,
   "metadata": {},
   "outputs": [
    {
     "data": {
      "text/plain": [
       "UncertaintyOutput(uncertainty=-0.37681065721924395, input_text=['<grounding>An image of'], generation_text='<phrase> A snowman</phrase><object><patch_index_0044><patch_index_0863></object> is sitting by<phrase> a campfire</phrase><object><patch_index_0005><patch_index_1007></object> in', generation_tokens=[64007, 95, 43867, 64008, 64009, 64057, 64876, 64010, 17, 1280, 32, 64007, 10, 30879, 64008, 64009, 64018, 65020, 64010], model_path=None, estimator='LexicalSimilarity_rougeL')"
      ]
     },
     "execution_count": 11,
     "metadata": {},
     "output_type": "execute_result"
    }
   ],
   "source": [
    "estimator = LexicalSimilarity(metric=\"rougeL\")\n",
    "estimate_uncertainty(model, estimator, input_text=input_text)"
   ]
  },
  {
   "cell_type": "code",
   "execution_count": null,
   "metadata": {},
   "outputs": [
    {
     "name": "stderr",
     "output_type": "stream",
     "text": [
      "/home/jovyan/.mlspace/envs/focus_new/lib/python3.10/site-packages/nltk/translate/bleu_score.py:577: UserWarning: \n",
      "The hypothesis contains 0 counts of 4-gram overlaps.\n",
      "Therefore the BLEU score evaluates to 0, independently of\n",
      "how many N-gram overlaps of lower order it contains.\n",
      "Consider using lower n-gram order or use SmoothingFunction()\n",
      "  warnings.warn(_msg)\n",
      "/home/jovyan/.mlspace/envs/focus_new/lib/python3.10/site-packages/nltk/translate/bleu_score.py:577: UserWarning: \n",
      "The hypothesis contains 0 counts of 2-gram overlaps.\n",
      "Therefore the BLEU score evaluates to 0, independently of\n",
      "how many N-gram overlaps of lower order it contains.\n",
      "Consider using lower n-gram order or use SmoothingFunction()\n",
      "  warnings.warn(_msg)\n",
      "/home/jovyan/.mlspace/envs/focus_new/lib/python3.10/site-packages/nltk/translate/bleu_score.py:577: UserWarning: \n",
      "The hypothesis contains 0 counts of 3-gram overlaps.\n",
      "Therefore the BLEU score evaluates to 0, independently of\n",
      "how many N-gram overlaps of lower order it contains.\n",
      "Consider using lower n-gram order or use SmoothingFunction()\n",
      "  warnings.warn(_msg)\n"
     ]
    },
    {
     "data": {
      "text/plain": [
       "UncertaintyOutput(uncertainty=-0.0023143153537747807, input_text=['<grounding>An image of'], generation_text='<phrase> A snowman</phrase><object><patch_index_0044><patch_index_0863></object> is sitting by<phrase> a campfire</phrase><object><patch_index_0005><patch_index_1007></object> in', generation_tokens=[64007, 95, 43867, 64008, 64009, 64057, 64876, 64010, 17, 1280, 32, 64007, 10, 30879, 64008, 64009, 64018, 65020, 64010], model_path=None, estimator='LexicalSimilarity_BLEU')"
      ]
     },
     "execution_count": 12,
     "metadata": {},
     "output_type": "execute_result"
    }
   ],
   "source": [
    "estimator = LexicalSimilarity(metric=\"BLEU\")\n",
    "estimate_uncertainty(model, estimator, input_text=input_text)"
   ]
  },
  {
   "cell_type": "code",
   "execution_count": null,
   "metadata": {},
   "outputs": [
    {
     "name": "stderr",
     "output_type": "stream",
     "text": [
      "Some weights of the model checkpoint at microsoft/deberta-large-mnli were not used when initializing DebertaForSequenceClassification: ['config']\n",
      "- This IS expected if you are initializing DebertaForSequenceClassification from the checkpoint of a model trained on another task or with another architecture (e.g. initializing a BertForSequenceClassification model from a BertForPreTraining model).\n",
      "- This IS NOT expected if you are initializing DebertaForSequenceClassification from the checkpoint of a model that you expect to be exactly identical (initializing a BertForSequenceClassification model from a BertForSequenceClassification model).\n"
     ]
    },
    {
     "data": {
      "text/plain": [
       "UncertaintyOutput(uncertainty=4.0, input_text=['<grounding>An image of'], generation_text='<phrase> A snowman</phrase><object><patch_index_0044><patch_index_0863></object> is sitting by<phrase> a campfire</phrase><object><patch_index_0005><patch_index_1007></object> in', generation_tokens=[64007, 95, 43867, 64008, 64009, 64057, 64876, 64010, 17, 1280, 32, 64007, 10, 30879, 64008, 64009, 64018, 65020, 64010], model_path=None, estimator='NumSemSets')"
      ]
     },
     "execution_count": 13,
     "metadata": {},
     "output_type": "execute_result"
    }
   ],
   "source": [
    "estimator = NumSemSets()\n",
    "estimate_uncertainty(model, estimator, input_text=input_text)"
   ]
  },
  {
   "cell_type": "code",
   "execution_count": null,
   "metadata": {},
   "outputs": [
    {
     "name": "stderr",
     "output_type": "stream",
     "text": [
      "Some weights of the model checkpoint at microsoft/deberta-large-mnli were not used when initializing DebertaForSequenceClassification: ['config']\n",
      "- This IS expected if you are initializing DebertaForSequenceClassification from the checkpoint of a model trained on another task or with another architecture (e.g. initializing a BertForSequenceClassification model from a BertForPreTraining model).\n",
      "- This IS NOT expected if you are initializing DebertaForSequenceClassification from the checkpoint of a model that you expect to be exactly identical (initializing a BertForSequenceClassification model from a BertForSequenceClassification model).\n"
     ]
    },
    {
     "data": {
      "text/plain": [
       "UncertaintyOutput(uncertainty=4.2550045549869555, input_text=['<grounding>An image of'], generation_text='<phrase> A snowman</phrase><object><patch_index_0044><patch_index_0863></object> is sitting by<phrase> a campfire</phrase><object><patch_index_0005><patch_index_1007></object> in', generation_tokens=[64007, 95, 43867, 64008, 64009, 64057, 64876, 64010, 17, 1280, 32, 64007, 10, 30879, 64008, 64009, 64018, 65020, 64010], model_path=None, estimator='EigValLaplacian_NLI_score_entail')"
      ]
     },
     "execution_count": 14,
     "metadata": {},
     "output_type": "execute_result"
    }
   ],
   "source": [
    "estimator = EigValLaplacian(similarity_score=\"NLI_score\", affinity=\"entail\")\n",
    "estimate_uncertainty(model, estimator, input_text=input_text)"
   ]
  },
  {
   "cell_type": "code",
   "execution_count": null,
   "metadata": {},
   "outputs": [
    {
     "name": "stderr",
     "output_type": "stream",
     "text": [
      "Some weights of the model checkpoint at microsoft/deberta-large-mnli were not used when initializing DebertaForSequenceClassification: ['config']\n",
      "- This IS expected if you are initializing DebertaForSequenceClassification from the checkpoint of a model trained on another task or with another architecture (e.g. initializing a BertForSequenceClassification model from a BertForPreTraining model).\n",
      "- This IS NOT expected if you are initializing DebertaForSequenceClassification from the checkpoint of a model that you expect to be exactly identical (initializing a BertForSequenceClassification model from a BertForSequenceClassification model).\n",
      "Error during conversion: ChunkedEncodingError(ProtocolError('Response ended prematurely'))\n"
     ]
    },
    {
     "data": {
      "text/plain": [
       "UncertaintyOutput(uncertainty=1.5227961449172152, input_text=['<grounding>An image of'], generation_text='<phrase> A snowman</phrase><object><patch_index_0044><patch_index_0863></object> is sitting by<phrase> a campfire</phrase><object><patch_index_0005><patch_index_1007></object> in', generation_tokens=[64007, 95, 43867, 64008, 64009, 64057, 64876, 64010, 17, 1280, 32, 64007, 10, 30879, 64008, 64009, 64018, 65020, 64010], model_path=None, estimator='EigValLaplacian_NLI_score_contra')"
      ]
     },
     "execution_count": 15,
     "metadata": {},
     "output_type": "execute_result"
    }
   ],
   "source": [
    "estimator = EigValLaplacian(similarity_score=\"NLI_score\", affinity=\"contra\")\n",
    "estimate_uncertainty(model, estimator, input_text=input_text)"
   ]
  },
  {
   "cell_type": "code",
   "execution_count": null,
   "metadata": {},
   "outputs": [
    {
     "data": {
      "text/plain": [
       "UncertaintyOutput(uncertainty=6.165138721581687, input_text=['<grounding>An image of'], generation_text='<phrase> A snowman</phrase><object><patch_index_0044><patch_index_0863></object> is sitting by<phrase> a campfire</phrase><object><patch_index_0005><patch_index_1007></object> in', generation_tokens=[64007, 95, 43867, 64008, 64009, 64057, 64876, 64010, 17, 1280, 32, 64007, 10, 30879, 64008, 64009, 64018, 65020, 64010], model_path=None, estimator='EigValLaplacian_Jaccard_score')"
      ]
     },
     "execution_count": 16,
     "metadata": {},
     "output_type": "execute_result"
    }
   ],
   "source": [
    "estimator = EigValLaplacian(similarity_score=\"Jaccard_score\")\n",
    "estimate_uncertainty(model, estimator, input_text=input_text)"
   ]
  },
  {
   "cell_type": "code",
   "execution_count": null,
   "metadata": {},
   "outputs": [
    {
     "name": "stderr",
     "output_type": "stream",
     "text": [
      "Some weights of the model checkpoint at microsoft/deberta-large-mnli were not used when initializing DebertaForSequenceClassification: ['config']\n",
      "- This IS expected if you are initializing DebertaForSequenceClassification from the checkpoint of a model trained on another task or with another architecture (e.g. initializing a BertForSequenceClassification model from a BertForPreTraining model).\n",
      "- This IS NOT expected if you are initializing DebertaForSequenceClassification from the checkpoint of a model that you expect to be exactly identical (initializing a BertForSequenceClassification model from a BertForSequenceClassification model).\n"
     ]
    },
    {
     "data": {
      "text/plain": [
       "UncertaintyOutput(uncertainty=0.751336669921875, input_text=['<grounding>An image of'], generation_text='<phrase> A snowman</phrase><object><patch_index_0044><patch_index_0863></object> is sitting by<phrase> a campfire</phrase><object><patch_index_0005><patch_index_1007></object> in', generation_tokens=[64007, 95, 43867, 64008, 64009, 64057, 64876, 64010, 17, 1280, 32, 64007, 10, 30879, 64008, 64009, 64018, 65020, 64010], model_path=None, estimator='DegMat_NLI_score_entail')"
      ]
     },
     "execution_count": 17,
     "metadata": {},
     "output_type": "execute_result"
    }
   ],
   "source": [
    "estimator = DegMat(similarity_score=\"NLI_score\", affinity=\"entail\")\n",
    "estimate_uncertainty(model, estimator, input_text=input_text)"
   ]
  },
  {
   "cell_type": "code",
   "execution_count": null,
   "metadata": {},
   "outputs": [
    {
     "name": "stderr",
     "output_type": "stream",
     "text": [
      "Some weights of the model checkpoint at microsoft/deberta-large-mnli were not used when initializing DebertaForSequenceClassification: ['config']\n",
      "- This IS expected if you are initializing DebertaForSequenceClassification from the checkpoint of a model trained on another task or with another architecture (e.g. initializing a BertForSequenceClassification model from a BertForPreTraining model).\n",
      "- This IS NOT expected if you are initializing DebertaForSequenceClassification from the checkpoint of a model that you expect to be exactly identical (initializing a BertForSequenceClassification model from a BertForSequenceClassification model).\n"
     ]
    },
    {
     "data": {
      "text/plain": [
       "UncertaintyOutput(uncertainty=2.64618190942312, input_text=['<grounding>An image of'], generation_text='<phrase> A snowman</phrase><object><patch_index_0044><patch_index_0863></object> is sitting by<phrase> a campfire</phrase><object><patch_index_0005><patch_index_1007></object> in', generation_tokens=[64007, 95, 43867, 64008, 64009, 64057, 64876, 64010, 17, 1280, 32, 64007, 10, 30879, 64008, 64009, 64018, 65020, 64010], model_path=None, estimator='Eccentricity_NLI_score_entail')"
      ]
     },
     "execution_count": 18,
     "metadata": {},
     "output_type": "execute_result"
    }
   ],
   "source": [
    "estimator = Eccentricity(similarity_score=\"NLI_score\", affinity=\"entail\")\n",
    "estimate_uncertainty(model, estimator, input_text=input_text)"
   ]
  },
  {
   "cell_type": "code",
   "execution_count": null,
   "metadata": {},
   "outputs": [
    {
     "name": "stderr",
     "output_type": "stream",
     "text": [
      "Some weights of the model checkpoint at microsoft/deberta-large-mnli were not used when initializing DebertaForSequenceClassification: ['config']\n",
      "- This IS expected if you are initializing DebertaForSequenceClassification from the checkpoint of a model trained on another task or with another architecture (e.g. initializing a BertForSequenceClassification model from a BertForPreTraining model).\n",
      "- This IS NOT expected if you are initializing DebertaForSequenceClassification from the checkpoint of a model that you expect to be exactly identical (initializing a BertForSequenceClassification model from a BertForSequenceClassification model).\n"
     ]
    },
    {
     "data": {
      "text/plain": [
       "UncertaintyOutput(uncertainty=1.7340330921535638, input_text=['<grounding>An image of'], generation_text='<phrase> A snowman</phrase><object><patch_index_0044><patch_index_0863></object> is sitting by<phrase> a campfire</phrase><object><patch_index_0005><patch_index_1007></object> in', generation_tokens=[64007, 95, 43867, 64008, 64009, 64057, 64876, 64010, 17, 1280, 32, 64007, 10, 30879, 64008, 64009, 64018, 65020, 64010], model_path=None, estimator='Eccentricity_NLI_score_contra')"
      ]
     },
     "execution_count": 19,
     "metadata": {},
     "output_type": "execute_result"
    }
   ],
   "source": [
    "estimator = Eccentricity(similarity_score=\"NLI_score\", affinity=\"contra\")\n",
    "estimate_uncertainty(model, estimator, input_text=input_text)"
   ]
  },
  {
   "cell_type": "code",
   "execution_count": null,
   "metadata": {},
   "outputs": [
    {
     "data": {
      "text/plain": [
       "UncertaintyOutput(uncertainty=3.0, input_text=['<grounding>An image of'], generation_text='<phrase> A snowman</phrase><object><patch_index_0044><patch_index_0863></object> is sitting by<phrase> a campfire</phrase><object><patch_index_0005><patch_index_1007></object> in', generation_tokens=[64007, 95, 43867, 64008, 64009, 64057, 64876, 64010, 17, 1280, 32, 64007, 10, 30879, 64008, 64009, 64018, 65020, 64010], model_path=None, estimator='Eccentricity_Jaccard_score')"
      ]
     },
     "execution_count": 20,
     "metadata": {},
     "output_type": "execute_result"
    }
   ],
   "source": [
    "estimator = Eccentricity(similarity_score=\"Jaccard_score\")\n",
    "estimate_uncertainty(model, estimator, input_text=input_text)"
   ]
  },
  {
   "cell_type": "code",
   "execution_count": null,
   "metadata": {},
   "outputs": [
    {
     "name": "stderr",
     "output_type": "stream",
     "text": [
      "Some weights of the model checkpoint at microsoft/deberta-large-mnli were not used when initializing DebertaForSequenceClassification: ['config']\n",
      "- This IS expected if you are initializing DebertaForSequenceClassification from the checkpoint of a model trained on another task or with another architecture (e.g. initializing a BertForSequenceClassification model from a BertForPreTraining model).\n",
      "- This IS NOT expected if you are initializing DebertaForSequenceClassification from the checkpoint of a model that you expect to be exactly identical (initializing a BertForSequenceClassification model from a BertForSequenceClassification model).\n",
      "Error during conversion: ChunkedEncodingError(ProtocolError('Response ended prematurely'))\n"
     ]
    },
    {
     "data": {
      "text/plain": [
       "UncertaintyOutput(uncertainty=42.6698436271064, input_text=['<grounding>An image of'], generation_text='<phrase> A snowman</phrase><object><patch_index_0044><patch_index_0863></object> is sitting by<phrase> a campfire</phrase><object><patch_index_0005><patch_index_1007></object> in', generation_tokens=[64007, 95, 43867, 64008, 64009, 64057, 64876, 64010, 17, 1280, 32, 64007, 10, 30879, 64008, 64009, 64018, 65020, 64010], model_path=None, estimator='SemanticEntropy')"
      ]
     },
     "execution_count": 21,
     "metadata": {},
     "output_type": "execute_result"
    }
   ],
   "source": [
    "estimator = SemanticEntropy()\n",
    "estimate_uncertainty(model, estimator, input_text=input_text)"
   ]
  },
  {
   "cell_type": "code",
   "execution_count": null,
   "metadata": {},
   "outputs": [
    {
     "data": {
      "text/plain": [
       "UncertaintyOutput(uncertainty=-7.110739614758488, input_text=['<grounding>An image of'], generation_text='<phrase> A snowman</phrase><object><patch_index_0044><patch_index_0863></object> is sitting by<phrase> a campfire</phrase><object><patch_index_0005><patch_index_1007></object> in', generation_tokens=[64007, 95, 43867, 64008, 64009, 64057, 64876, 64010, 17, 1280, 32, 64007, 10, 30879, 64008, 64009, 64018, 65020, 64010], model_path=None, estimator='SAR')"
      ]
     },
     "execution_count": 22,
     "metadata": {},
     "output_type": "execute_result"
    }
   ],
   "source": [
    "estimator = SAR()\n",
    "estimate_uncertainty(model, estimator, input_text=input_text)"
   ]
  },
  {
   "cell_type": "code",
   "execution_count": null,
   "metadata": {},
   "outputs": [
    {
     "data": {
      "text/plain": [
       "UncertaintyOutput(uncertainty=0.619343638420105, input_text=['<grounding>An image of'], generation_text='<phrase> A snowman</phrase><object><patch_index_0044><patch_index_0863></object> is sitting by<phrase> a campfire</phrase><object><patch_index_0005><patch_index_1007></object> in', generation_tokens=[64007, 95, 43867, 64008, 64009, 64057, 64876, 64010, 17, 1280, 32, 64007, 10, 30879, 64008, 64009, 64018, 65020, 64010], model_path=None, estimator='TokenSAR')"
      ]
     },
     "execution_count": 23,
     "metadata": {},
     "output_type": "execute_result"
    }
   ],
   "source": [
    "estimator = TokenSAR()\n",
    "estimate_uncertainty(model, estimator, input_text=input_text)"
   ]
  },
  {
   "cell_type": "code",
   "execution_count": null,
   "metadata": {},
   "outputs": [
    {
     "data": {
      "text/plain": [
       "UncertaintyOutput(uncertainty=7.410428514598019, input_text=['<grounding>An image of'], generation_text='<phrase> A snowman</phrase><object><patch_index_0044><patch_index_0863></object> is sitting by<phrase> a campfire</phrase><object><patch_index_0005><patch_index_1007></object> in', generation_tokens=[64007, 95, 43867, 64008, 64009, 64057, 64876, 64010, 17, 1280, 32, 64007, 10, 30879, 64008, 64009, 64018, 65020, 64010], model_path=None, estimator='SentenceSAR')"
      ]
     },
     "execution_count": 24,
     "metadata": {},
     "output_type": "execute_result"
    }
   ],
   "source": [
    "estimator = SentenceSAR()\n",
    "estimate_uncertainty(model, estimator, input_text=input_text)"
   ]
  },
  {
   "cell_type": "code",
   "execution_count": null,
   "metadata": {},
   "outputs": [
    {
     "data": {
      "text/plain": [
       "UncertaintyOutput(uncertainty=-20.160396575927734, input_text=['<grounding>An image of'], generation_text='<phrase> A snowman</phrase><object><patch_index_0044><patch_index_0863></object> is sitting by<phrase> a campfire</phrase><object><patch_index_0005><patch_index_1007></object> in', generation_tokens=[64007, 95, 43867, 64008, 64009, 64057, 64876, 64010, 17, 1280, 32, 64007, 10, 30879, 64008, 64009, 64018, 65020, 64010], model_path=None, estimator='RenyiNeg')"
      ]
     },
     "execution_count": 25,
     "metadata": {},
     "output_type": "execute_result"
    }
   ],
   "source": [
    "estimator = RenyiNeg()\n",
    "estimate_uncertainty(model, estimator, input_text=input_text)"
   ]
  },
  {
   "cell_type": "code",
   "execution_count": null,
   "metadata": {},
   "outputs": [
    {
     "data": {
      "text/plain": [
       "UncertaintyOutput(uncertainty=0.6960842609405518, input_text=['<grounding>An image of'], generation_text='<phrase> A snowman</phrase><object><patch_index_0044><patch_index_0863></object> is sitting by<phrase> a campfire</phrase><object><patch_index_0005><patch_index_1007></object> in', generation_tokens=[64007, 95, 43867, 64008, 64009, 64057, 64876, 64010, 17, 1280, 32, 64007, 10, 30879, 64008, 64009, 64018, 65020, 64010], model_path=None, estimator='FisherRao')"
      ]
     },
     "execution_count": 26,
     "metadata": {},
     "output_type": "execute_result"
    }
   ],
   "source": [
    "estimator = FisherRao()\n",
    "estimate_uncertainty(model, estimator, input_text=input_text)"
   ]
  },
  {
   "cell_type": "code",
   "execution_count": null,
   "metadata": {},
   "outputs": [
    {
     "name": "stderr",
     "output_type": "stream",
     "text": [
      "Some weights of the model checkpoint at microsoft/deberta-large-mnli were not used when initializing DebertaForSequenceClassification: ['config']\n",
      "- This IS expected if you are initializing DebertaForSequenceClassification from the checkpoint of a model trained on another task or with another architecture (e.g. initializing a BertForSequenceClassification model from a BertForPreTraining model).\n",
      "- This IS NOT expected if you are initializing DebertaForSequenceClassification from the checkpoint of a model that you expect to be exactly identical (initializing a BertForSequenceClassification model from a BertForSequenceClassification model).\n",
      "Error during conversion: ChunkedEncodingError(ProtocolError('Response ended prematurely'))\n",
      "/home/jovyan/rvanova/polygraph_nemo_repos/lm-polygraph/src/lm_polygraph/estimators/kernel_language_entropy.py:39: ComplexWarning: Casting complex values to real discards the imaginary part\n",
      "  eigvs = np.linalg.eig(K + jitter * np.eye(K.shape[0])).eigenvalues.astype(\n"
     ]
    },
    {
     "data": {
      "text/plain": [
       "UncertaintyOutput(uncertainty=0.928356676367408, input_text=['<grounding>An image of'], generation_text='<phrase> A snowman</phrase><object><patch_index_0044><patch_index_0863></object> is sitting by<phrase> a campfire</phrase><object><patch_index_0005><patch_index_1007></object> in', generation_tokens=[64007, 95, 43867, 64008, 64009, 64057, 64876, 64010, 17, 1280, 32, 64007, 10, 30879, 64008, 64009, 64018, 65020, 64010], model_path=None, estimator='KernelLanguageEntropy')"
      ]
     },
     "execution_count": 27,
     "metadata": {},
     "output_type": "execute_result"
    }
   ],
   "source": [
    "estimator = KernelLanguageEntropy()\n",
    "estimate_uncertainty(model, estimator, input_text=input_text)"
   ]
  },
  {
   "cell_type": "code",
   "execution_count": null,
   "metadata": {},
   "outputs": [
    {
     "name": "stderr",
     "output_type": "stream",
     "text": [
      "Some weights of the model checkpoint at microsoft/deberta-large-mnli were not used when initializing DebertaForSequenceClassification: ['config']\n",
      "- This IS expected if you are initializing DebertaForSequenceClassification from the checkpoint of a model trained on another task or with another architecture (e.g. initializing a BertForSequenceClassification model from a BertForPreTraining model).\n",
      "- This IS NOT expected if you are initializing DebertaForSequenceClassification from the checkpoint of a model that you expect to be exactly identical (initializing a BertForSequenceClassification model from a BertForSequenceClassification model).\n"
     ]
    },
    {
     "data": {
      "text/plain": [
       "UncertaintyOutput(uncertainty=0.3486354947090149, input_text=['<grounding>An image of'], generation_text='<phrase> A snowman</phrase><object><patch_index_0044><patch_index_0863></object> is sitting by<phrase> a campfire</phrase><object><patch_index_0005><patch_index_1007></object> in', generation_tokens=[64007, 95, 43867, 64008, 64009, 64057, 64876, 64010, 17, 1280, 32, 64007, 10, 30879, 64008, 64009, 64018, 65020, 64010], model_path=None, estimator='LUQ')"
      ]
     },
     "execution_count": 28,
     "metadata": {},
     "output_type": "execute_result"
    }
   ],
   "source": [
    "estimator = LUQ()\n",
    "estimate_uncertainty(model, estimator, input_text=input_text)"
   ]
  },
  {
   "cell_type": "code",
   "execution_count": null,
   "metadata": {},
   "outputs": [
    {
     "data": {
      "text/plain": [
       "UncertaintyOutput(uncertainty=13.459794337654325, input_text=['<grounding>An image of'], generation_text='<phrase> A snowman</phrase><object><patch_index_0044><patch_index_0863></object> is sitting by<phrase> a campfire</phrase><object><patch_index_0005><patch_index_1007></object> in', generation_tokens=[64007, 95, 43867, 64008, 64009, 64057, 64876, 64010, 17, 1280, 32, 64007, 10, 30879, 64008, 64009, 64018, 65020, 64010], model_path=None, estimator='EigenScore')"
      ]
     },
     "execution_count": 29,
     "metadata": {},
     "output_type": "execute_result"
    }
   ],
   "source": [
    "estimator = EigenScore()\n",
    "estimate_uncertainty(model, estimator, input_text=input_text)"
   ]
  },
  {
   "cell_type": "code",
   "execution_count": null,
   "metadata": {},
   "outputs": [
    {
     "data": {
      "text/plain": [
       "UncertaintyOutput(uncertainty=8.79899084502623, input_text=['<grounding>An image of'], generation_text='<phrase> A snowman</phrase><object><patch_index_0044><patch_index_0863></object> is sitting by<phrase> a campfire</phrase><object><patch_index_0005><patch_index_1007></object> in', generation_tokens=[64007, 95, 43867, 64008, 64009, 64057, 64876, 64010, 17, 1280, 32, 64007, 10, 30879, 64008, 64009, 64018, 65020, 64010], model_path=None, estimator='Focus (gamma=0.9)')"
      ]
     },
     "execution_count": 30,
     "metadata": {},
     "output_type": "execute_result"
    }
   ],
   "source": [
    "model_name = model.model.config._name_or_path\n",
    "estimator = Focus(\n",
    "        model_name=model_name,\n",
    "        path=f\"../focus_data/{model_name}/token_idf.pkl\",\n",
    "        gamma=0.9,\n",
    "        p=0.01,\n",
    "        idf_dataset=\"togethercomputer/RedPajama-Data-1T-Sample\",\n",
    "        trust_remote_code=True,\n",
    "        idf_seed=42,\n",
    "        idf_dataset_size=1000,\n",
    "        spacy_path=\"en_core_web_sm\",\n",
    "    )\n",
    "estimate_uncertainty(model, estimator, input_text=input_text)"
   ]
  },
  {
   "cell_type": "code",
   "execution_count": 37,
   "metadata": {},
   "outputs": [
    {
     "data": {
      "text/plain": [
       "UncertaintyOutput(uncertainty=12.144603729248047, input_text=['<grounding>An image of'], generation_text='<phrase> A snowman</phrase><object><patch_index_0044><patch_index_0863></object> is sitting by<phrase> a campfire</phrase><object><patch_index_0005><patch_index_1007></object> in', generation_tokens=[64007, 95, 43867, 64008, 64009, 64057, 64876, 64010, 17, 1280, 32, 64007, 10, 30879, 64008, 64009, 64018, 65020, 64010], model_path=None, estimator='PTrue')"
      ]
     },
     "execution_count": 37,
     "metadata": {},
     "output_type": "execute_result"
    }
   ],
   "source": [
    "#Blackbox!!!\n",
    "estimator = PTrue()\n",
    "estimate_uncertainty(model, estimator, input_text=input_text)"
   ]
  },
  {
   "cell_type": "code",
   "execution_count": 38,
   "metadata": {},
   "outputs": [
    {
     "data": {
      "text/plain": [
       "UncertaintyOutput(uncertainty=12.144603729248047, input_text=['<grounding>An image of'], generation_text='<phrase> A snowman</phrase><object><patch_index_0044><patch_index_0863></object> is sitting by<phrase> a campfire</phrase><object><patch_index_0005><patch_index_1007></object> in', generation_tokens=[64007, 95, 43867, 64008, 64009, 64057, 64876, 64010, 17, 1280, 32, 64007, 10, 30879, 64008, 64009, 64018, 65020, 64010], model_path=None, estimator='PTrueSampling')"
      ]
     },
     "execution_count": 38,
     "metadata": {},
     "output_type": "execute_result"
    }
   ],
   "source": [
    "estimator = PTrueSampling()\n",
    "estimate_uncertainty(model, estimator, input_text=input_text)"
   ]
  },
  {
   "cell_type": "code",
   "execution_count": 39,
   "metadata": {},
   "outputs": [
    {
     "data": {
      "text/plain": [
       "UncertaintyOutput(uncertainty=0.6065594553947449, input_text=['<grounding>An image of'], generation_text='<phrase> A snowman</phrase><object><patch_index_0044><patch_index_0863></object> is sitting by<phrase> a campfire</phrase><object><patch_index_0005><patch_index_1007></object> in', generation_tokens=[64007, 95, 43867, 64008, 64009, 64057, 64876, 64010, 17, 1280, 32, 64007, 10, 30879, 64008, 64009, 64018, 65020, 64010], model_path=None, estimator='Perplexity')"
      ]
     },
     "execution_count": 39,
     "metadata": {},
     "output_type": "execute_result"
    }
   ],
   "source": [
    "estimator = Perplexity()\n",
    "estimate_uncertainty(model, estimator, input_text=input_text)"
   ]
  },
  {
   "cell_type": "code",
   "execution_count": 40,
   "metadata": {},
   "outputs": [
    {
     "data": {
      "text/plain": [
       "UncertaintyOutput(uncertainty=12.131189346313477, input_text=['<grounding>An image of'], generation_text='<phrase> A snowman</phrase><object><patch_index_0044><patch_index_0863></object> is sitting by<phrase> a campfire</phrase><object><patch_index_0005><patch_index_1007></object> in', generation_tokens=[64007, 95, 43867, 64008, 64009, 64057, 64876, 64010, 17, 1280, 32, 64007, 10, 30879, 64008, 64009, 64018, 65020, 64010], model_path=None, estimator='MaximumSequenceProbability')"
      ]
     },
     "execution_count": 40,
     "metadata": {},
     "output_type": "execute_result"
    }
   ],
   "source": [
    "estimator = MaximumSequenceProbability()\n",
    "estimate_uncertainty(model, estimator, input_text=input_text)"
   ]
  },
  {
   "cell_type": "code",
   "execution_count": 41,
   "metadata": {},
   "outputs": [
    {
     "data": {
      "text/plain": [
       "UncertaintyOutput(uncertainty=-0.4269182630510808, input_text=['<grounding>An image of'], generation_text='<phrase> A snowman</phrase><object><patch_index_0044><patch_index_0863></object> is sitting by<phrase> a campfire</phrase><object><patch_index_0005><patch_index_1007></object> in', generation_tokens=[64007, 95, 43867, 64008, 64009, 64057, 64876, 64010, 17, 1280, 32, 64007, 10, 30879, 64008, 64009, 64018, 65020, 64010], model_path=None, estimator='LexicalSimilarity_rougeL')"
      ]
     },
     "execution_count": 41,
     "metadata": {},
     "output_type": "execute_result"
    }
   ],
   "source": [
    "estimator = LexicalSimilarity('rougeL')\n",
    "estimate_uncertainty(model, estimator, input_text=input_text)"
   ]
  },
  {
   "cell_type": "code",
   "execution_count": 42,
   "metadata": {},
   "outputs": [
    {
     "name": "stderr",
     "output_type": "stream",
     "text": [
      "Some weights of the model checkpoint at microsoft/deberta-large-mnli were not used when initializing DebertaForSequenceClassification: ['config']\n",
      "- This IS expected if you are initializing DebertaForSequenceClassification from the checkpoint of a model trained on another task or with another architecture (e.g. initializing a BertForSequenceClassification model from a BertForPreTraining model).\n",
      "- This IS NOT expected if you are initializing DebertaForSequenceClassification from the checkpoint of a model that you expect to be exactly identical (initializing a BertForSequenceClassification model from a BertForSequenceClassification model).\n"
     ]
    },
    {
     "data": {
      "text/plain": [
       "UncertaintyOutput(uncertainty=42.05250200109869, input_text=['<grounding>An image of'], generation_text='<phrase> A snowman</phrase><object><patch_index_0044><patch_index_0863></object> is sitting by<phrase> a campfire</phrase><object><patch_index_0005><patch_index_1007></object> in', generation_tokens=[64007, 95, 43867, 64008, 64009, 64057, 64876, 64010, 17, 1280, 32, 64007, 10, 30879, 64008, 64009, 64018, 65020, 64010], model_path=None, estimator='SemanticEntropy')"
      ]
     },
     "execution_count": 42,
     "metadata": {},
     "output_type": "execute_result"
    }
   ],
   "source": [
    "estimator = SemanticEntropy()\n",
    "estimate_uncertainty(model, estimator, input_text=input_text)"
   ]
  },
  {
   "cell_type": "code",
   "execution_count": 43,
   "metadata": {},
   "outputs": [
    {
     "data": {
      "text/plain": [
       "UncertaintyOutput(uncertainty=0.8221019506454468, input_text=['<grounding>An image of'], generation_text='<phrase> A snowman</phrase><object><patch_index_0044><patch_index_0863></object> is sitting by<phrase> a campfire</phrase><object><patch_index_0005><patch_index_1007></object> in', generation_tokens=[64007, 95, 43867, 64008, 64009, 64057, 64876, 64010, 17, 1280, 32, 64007, 10, 30879, 64008, 64009, 64018, 65020, 64010], model_path=None, estimator='PointwiseMutualInformation')"
      ]
     },
     "execution_count": 43,
     "metadata": {},
     "output_type": "execute_result"
    }
   ],
   "source": [
    "estimator = PointwiseMutualInformation()\n",
    "estimate_uncertainty(model, estimator, input_text=input_text)"
   ]
  },
  {
   "cell_type": "code",
   "execution_count": null,
   "metadata": {},
   "outputs": [],
   "source": []
  }
 ],
 "metadata": {
  "kernelspec": {
   "display_name": "Python [conda env:.mlspace-focus_new]",
   "language": "python",
   "name": "conda-env-.mlspace-focus_new-py"
  },
  "language_info": {
   "codemirror_mode": {
    "name": "ipython",
    "version": 3
   },
   "file_extension": ".py",
   "mimetype": "text/x-python",
   "name": "python",
   "nbconvert_exporter": "python",
   "pygments_lexer": "ipython3",
   "version": "3.10.16"
  }
 },
 "nbformat": 4,
 "nbformat_minor": 4
}
