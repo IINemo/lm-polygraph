{
 "cells": [
  {
   "cell_type": "code",
   "execution_count": null,
   "metadata": {},
   "outputs": [
    {
     "name": "stderr",
     "output_type": "stream",
     "text": [
      "/home/jovyan/.mlspace/envs/focus_new/lib/python3.10/site-packages/tqdm/auto.py:21: TqdmWarning: IProgress not found. Please update jupyter and ipywidgets. See https://ipywidgets.readthedocs.io/en/stable/user_install.html\n",
      "  from .autonotebook import tqdm as notebook_tqdm\n"
     ]
    }
   ],
   "source": [
    "from typing import Any, Dict, List, Optional, Union, Tuple\n",
    "\n",
    "import requests\n",
    "import torch\n",
    "from lm_polygraph import estimate_uncertainty\n",
    "from lm_polygraph.estimators import (\n",
    "    EigValLaplacian,\n",
    "    LexicalSimilarity,\n",
    "    MaximumTokenProbability,\n",
    "    PointwiseMutualInformation,\n",
    "    SemanticEntropy,\n",
    "    Focus\n",
    ")\n",
    "from lm_polygraph.model_adapters.whitebox_visual import VisualWhiteboxModel\n",
    "from PIL import Image\n",
    "\n",
    "%load_ext autoreload\n",
    "%autoreload 2\n",
    "from transformers import (\n",
    "    AutoModelForCausalLM,\n",
    "    AutoModelForVision2Seq,\n",
    "    AutoProcessor,\n",
    "    AutoTokenizer,\n",
    ")\n",
    "from dataclasses import dataclass\n",
    "import numpy as np"
   ]
  },
  {
   "cell_type": "code",
   "execution_count": null,
   "metadata": {},
   "outputs": [
    {
     "name": "stderr",
     "output_type": "stream",
     "text": [
      "Keyword argument `return_dict` is not a valid argument for this processor and will be ignored.\n"
     ]
    },
    {
     "name": "stdout",
     "output_type": "stream",
     "text": [
      "Uncertainty estimation: UncertaintyOutput(uncertainty=array([-0.43950686, -0.55753523, -0.7364028 , -0.63372934, -1.        ,\n",
      "       -0.96391106, -0.89820856, -0.9997953 , -0.34002206, -0.40260765,\n",
      "       -0.31840694, -0.872435  , -0.85644513, -0.47168002, -0.9281716 ,\n",
      "       -1.        , -0.08342137, -0.12618384, -0.99650866], dtype=float32), input_text=['<grounding>An image of'], generation_text='<phrase> A snowman</phrase><object><patch_index_0044><patch_index_0863></object> is sitting by<phrase> a campfire</phrase><object><patch_index_0005><patch_index_1007></object> in', generation_tokens=[64007, 95, 43867, 64008, 64009, 64057, 64876, 64010, 17, 1280, 32, 64007, 10, 30879, 64008, 64009, 64018, 65020, 64010], model_path=None, estimator='MaximumTokenProbability')\n"
     ]
    }
   ],
   "source": [
    "# # Load model and processor\n",
    "# from transformers import AutoConfig\n",
    "\n",
    "# config = AutoConfig.from_pretrained(\"microsoft/kosmos-2-patch14-224\")\n",
    "\n",
    "# # Manually set missing attributes\n",
    "# config.num_attention_heads = 16  # Set an appropriate default\n",
    "# config.num_hidden_layers = 24   # Set based on the model architecture\n",
    "\n",
    "# # Assign it back to the model\n",
    "# model.config = config\n",
    "\n",
    "\n",
    "base_model = AutoModelForVision2Seq.from_pretrained(\"microsoft/kosmos-2-patch14-224\")\n",
    "processor = AutoProcessor.from_pretrained(\"microsoft/kosmos-2-patch14-224\")\n",
    "\n",
    "# Create whitebox model with image\n",
    "url = \"https://huggingface.co/microsoft/kosmos-2-patch14-224/resolve/main/snowman.png\"\n",
    "model = VisualWhiteboxModel(base_model, processor, image_urls=[url])\n",
    "\n",
    "# Test with input text\n",
    "input_text = [\"<grounding>An image of\"]\n",
    "\n",
    "estimator = MaximumTokenProbability()\n",
    "uncertainty = estimate_uncertainty(model, estimator, input_text=input_text)\n",
    "print(\"Uncertainty estimation:\", uncertainty)"
   ]
  },
  {
   "cell_type": "code",
   "execution_count": null,
   "metadata": {},
   "outputs": [],
   "source": [
    "estimator = LexicalSimilarity('rougeL')\n",
    "estimate_uncertainty(model, estimator, input_text=input_text)"
   ]
  },
  {
   "cell_type": "code",
   "execution_count": null,
   "metadata": {},
   "outputs": [],
   "source": [
    "estimator = SemanticEntropy()\n",
    "estimate_uncertainty(model, estimator, input_text=input_text)"
   ]
  },
  {
   "cell_type": "code",
   "execution_count": 17,
   "metadata": {},
   "outputs": [
    {
     "ename": "Exception",
     "evalue": "Cant find stat calculator for: greedy_lm_log_likelihoods. Maybe you forgot to register it in lm_polygraph.utils.register_stat_calculators.register_stat_calculators()?",
     "output_type": "error",
     "traceback": [
      "\u001b[0;31m---------------------------------------------------------------------------\u001b[0m",
      "\u001b[0;31mException\u001b[0m                                 Traceback (most recent call last)",
      "Cell \u001b[0;32mIn[17], line 2\u001b[0m\n\u001b[1;32m      1\u001b[0m estimator \u001b[38;5;241m=\u001b[39m PointwiseMutualInformation()\n\u001b[0;32m----> 2\u001b[0m \u001b[43mestimate_uncertainty\u001b[49m\u001b[43m(\u001b[49m\u001b[43mmodel\u001b[49m\u001b[43m,\u001b[49m\u001b[43m \u001b[49m\u001b[43mestimator\u001b[49m\u001b[43m,\u001b[49m\u001b[43m \u001b[49m\u001b[43minput_text\u001b[49m\u001b[38;5;241;43m=\u001b[39;49m\u001b[43minput_text\u001b[49m\u001b[43m)\u001b[49m\n",
      "File \u001b[0;32m~/rvanova/polygraph_nemo_repos/lm-polygraph/src/lm_polygraph/utils/estimate_uncertainty.py:85\u001b[0m, in \u001b[0;36mestimate_uncertainty\u001b[0;34m(model, estimator, input_text)\u001b[0m\n\u001b[1;32m     83\u001b[0m \u001b[38;5;28;01melse\u001b[39;00m:\n\u001b[1;32m     84\u001b[0m     model_type \u001b[38;5;241m=\u001b[39m \u001b[38;5;124m\"\u001b[39m\u001b[38;5;124mBlackbox\u001b[39m\u001b[38;5;124m\"\u001b[39m\n\u001b[0;32m---> 85\u001b[0m man \u001b[38;5;241m=\u001b[39m \u001b[43mUEManager\u001b[49m\u001b[43m(\u001b[49m\n\u001b[1;32m     86\u001b[0m \u001b[43m    \u001b[49m\u001b[43mDataset\u001b[49m\u001b[43m(\u001b[49m\u001b[43m[\u001b[49m\u001b[43minput_text\u001b[49m\u001b[43m]\u001b[49m\u001b[43m,\u001b[49m\u001b[43m \u001b[49m\u001b[43m[\u001b[49m\u001b[38;5;124;43m\"\u001b[39;49m\u001b[38;5;124;43m\"\u001b[39;49m\u001b[43m]\u001b[49m\u001b[43m,\u001b[49m\u001b[43m \u001b[49m\u001b[43mbatch_size\u001b[49m\u001b[38;5;241;43m=\u001b[39;49m\u001b[38;5;241;43m1\u001b[39;49m\u001b[43m)\u001b[49m\u001b[43m,\u001b[49m\n\u001b[1;32m     87\u001b[0m \u001b[43m    \u001b[49m\u001b[43mmodel\u001b[49m\u001b[43m,\u001b[49m\n\u001b[1;32m     88\u001b[0m \u001b[43m    \u001b[49m\u001b[43m[\u001b[49m\u001b[43mestimator\u001b[49m\u001b[43m]\u001b[49m\u001b[43m,\u001b[49m\n\u001b[1;32m     89\u001b[0m \u001b[43m    \u001b[49m\u001b[43mavailable_stat_calculators\u001b[49m\u001b[38;5;241;43m=\u001b[39;49m\u001b[43mregister_default_stat_calculators\u001b[49m\u001b[43m(\u001b[49m\n\u001b[1;32m     90\u001b[0m \u001b[43m        \u001b[49m\u001b[43mmodel_type\u001b[49m\n\u001b[1;32m     91\u001b[0m \u001b[43m    \u001b[49m\u001b[43m)\u001b[49m\u001b[43m,\u001b[49m\u001b[43m  \u001b[49m\u001b[38;5;66;43;03m# TODO:\u001b[39;49;00m\n\u001b[1;32m     92\u001b[0m \u001b[43m    \u001b[49m\u001b[43mbuilder_env_stat_calc\u001b[49m\u001b[38;5;241;43m=\u001b[39;49m\u001b[43mBuilderEnvironmentStatCalculator\u001b[49m\u001b[43m(\u001b[49m\u001b[43mmodel\u001b[49m\u001b[43m)\u001b[49m\u001b[43m,\u001b[49m\n\u001b[1;32m     93\u001b[0m \u001b[43m    \u001b[49m\u001b[43mgeneration_metrics\u001b[49m\u001b[38;5;241;43m=\u001b[39;49m\u001b[43m[\u001b[49m\u001b[43m]\u001b[49m\u001b[43m,\u001b[49m\n\u001b[1;32m     94\u001b[0m \u001b[43m    \u001b[49m\u001b[43mue_metrics\u001b[49m\u001b[38;5;241;43m=\u001b[39;49m\u001b[43m[\u001b[49m\u001b[43m]\u001b[49m\u001b[43m,\u001b[49m\n\u001b[1;32m     95\u001b[0m \u001b[43m    \u001b[49m\u001b[43mprocessors\u001b[49m\u001b[38;5;241;43m=\u001b[39;49m\u001b[43m[\u001b[49m\u001b[43m]\u001b[49m\u001b[43m,\u001b[49m\n\u001b[1;32m     96\u001b[0m \u001b[43m    \u001b[49m\u001b[43mignore_exceptions\u001b[49m\u001b[38;5;241;43m=\u001b[39;49m\u001b[38;5;28;43;01mFalse\u001b[39;49;00m\u001b[43m,\u001b[49m\n\u001b[1;32m     97\u001b[0m \u001b[43m    \u001b[49m\u001b[43mverbose\u001b[49m\u001b[38;5;241;43m=\u001b[39;49m\u001b[38;5;28;43;01mFalse\u001b[39;49;00m\u001b[43m,\u001b[49m\n\u001b[1;32m     98\u001b[0m \u001b[43m\u001b[49m\u001b[43m)\u001b[49m\n\u001b[1;32m     99\u001b[0m man()\n\u001b[1;32m    100\u001b[0m ue \u001b[38;5;241m=\u001b[39m man\u001b[38;5;241m.\u001b[39mestimations[estimator\u001b[38;5;241m.\u001b[39mlevel, \u001b[38;5;28mstr\u001b[39m(estimator)]\n",
      "File \u001b[0;32m~/rvanova/polygraph_nemo_repos/lm-polygraph/src/lm_polygraph/utils/manager.py:184\u001b[0m, in \u001b[0;36mUEManager.__init__\u001b[0;34m(self, data, model, estimators, builder_env_stat_calc, available_stat_calculators, generation_metrics, ue_metrics, processors, ignore_exceptions, verbose, max_new_tokens, log_time)\u001b[0m\n\u001b[1;32m    181\u001b[0m \u001b[38;5;28mself\u001b[39m\u001b[38;5;241m.\u001b[39mfactory_stat_calc \u001b[38;5;241m=\u001b[39m FactoryStatCalculator(builder_env_stat_calc)\n\u001b[1;32m    182\u001b[0m \u001b[38;5;28mself\u001b[39m\u001b[38;5;241m.\u001b[39mlog_time \u001b[38;5;241m=\u001b[39m log_time\n\u001b[0;32m--> 184\u001b[0m \u001b[38;5;28;43mself\u001b[39;49m\u001b[38;5;241;43m.\u001b[39;49m\u001b[43minit\u001b[49m\u001b[43m(\u001b[49m\u001b[43m)\u001b[49m\n",
      "File \u001b[0;32m~/rvanova/polygraph_nemo_repos/lm-polygraph/src/lm_polygraph/utils/manager.py:211\u001b[0m, in \u001b[0;36mUEManager.init\u001b[0;34m(self)\u001b[0m\n\u001b[1;32m    203\u001b[0m     greedy \u001b[38;5;241m+\u001b[39m\u001b[38;5;241m=\u001b[39m [\u001b[38;5;124m\"\u001b[39m\u001b[38;5;124mgreedy_tokens\u001b[39m\u001b[38;5;124m\"\u001b[39m]\n\u001b[1;32m    205\u001b[0m stats \u001b[38;5;241m=\u001b[39m (\n\u001b[1;32m    206\u001b[0m     [s \u001b[38;5;28;01mfor\u001b[39;00m e \u001b[38;5;129;01min\u001b[39;00m \u001b[38;5;28mself\u001b[39m\u001b[38;5;241m.\u001b[39mestimators \u001b[38;5;28;01mfor\u001b[39;00m s \u001b[38;5;129;01min\u001b[39;00m e\u001b[38;5;241m.\u001b[39mstats_dependencies]\n\u001b[1;32m    207\u001b[0m     \u001b[38;5;241m+\u001b[39m [s \u001b[38;5;28;01mfor\u001b[39;00m m \u001b[38;5;129;01min\u001b[39;00m \u001b[38;5;28mself\u001b[39m\u001b[38;5;241m.\u001b[39mgeneration_metrics \u001b[38;5;28;01mfor\u001b[39;00m s \u001b[38;5;129;01min\u001b[39;00m m\u001b[38;5;241m.\u001b[39mstats_dependencies]\n\u001b[1;32m    208\u001b[0m     \u001b[38;5;241m+\u001b[39m greedy\n\u001b[1;32m    209\u001b[0m )\n\u001b[0;32m--> 211\u001b[0m stats, have_stats \u001b[38;5;241m=\u001b[39m \u001b[43morder_calculators\u001b[49m\u001b[43m(\u001b[49m\n\u001b[1;32m    212\u001b[0m \u001b[43m    \u001b[49m\u001b[43mstats\u001b[49m\u001b[43m,\u001b[49m\n\u001b[1;32m    213\u001b[0m \u001b[43m    \u001b[49m\u001b[38;5;28;43mself\u001b[39;49m\u001b[38;5;241;43m.\u001b[39;49m\u001b[43mstat_calculators_dict\u001b[49m\u001b[43m,\u001b[49m\n\u001b[1;32m    214\u001b[0m \u001b[43m    \u001b[49m\u001b[43mstat_dependencies_dict\u001b[49m\u001b[43m,\u001b[49m\n\u001b[1;32m    215\u001b[0m \u001b[43m\u001b[49m\u001b[43m)\u001b[49m\n\u001b[1;32m    217\u001b[0m \u001b[38;5;28mself\u001b[39m\u001b[38;5;241m.\u001b[39mstats_names \u001b[38;5;241m=\u001b[39m stats\n\u001b[1;32m    218\u001b[0m stats \u001b[38;5;241m=\u001b[39m [\n\u001b[1;32m    219\u001b[0m     s\n\u001b[1;32m    220\u001b[0m     \u001b[38;5;28;01mfor\u001b[39;00m s \u001b[38;5;129;01min\u001b[39;00m stats\n\u001b[0;32m   (...)\u001b[0m\n\u001b[1;32m    227\u001b[0m     )\n\u001b[1;32m    228\u001b[0m ]  \u001b[38;5;66;03m# below in calculate() we copy X in blackbox_X\u001b[39;00m\n",
      "File \u001b[0;32m~/rvanova/polygraph_nemo_repos/lm-polygraph/src/lm_polygraph/utils/manager.py:75\u001b[0m, in \u001b[0;36morder_calculators\u001b[0;34m(stats, stat_calculators, stat_dependencies)\u001b[0m\n\u001b[1;32m     73\u001b[0m dependent \u001b[38;5;241m=\u001b[39m \u001b[38;5;28;01mFalse\u001b[39;00m\n\u001b[1;32m     74\u001b[0m \u001b[38;5;28;01mif\u001b[39;00m stat \u001b[38;5;129;01mnot\u001b[39;00m \u001b[38;5;129;01min\u001b[39;00m stat_dependencies\u001b[38;5;241m.\u001b[39mkeys():\n\u001b[0;32m---> 75\u001b[0m     \u001b[38;5;28;01mraise\u001b[39;00m \u001b[38;5;167;01mException\u001b[39;00m(\n\u001b[1;32m     76\u001b[0m         \u001b[38;5;124mf\u001b[39m\u001b[38;5;124m\"\u001b[39m\u001b[38;5;124mCant find stat calculator for: \u001b[39m\u001b[38;5;132;01m{\u001b[39;00mstat\u001b[38;5;132;01m}\u001b[39;00m\u001b[38;5;124m. Maybe you forgot to register it in \u001b[39m\u001b[38;5;124m\"\u001b[39m\n\u001b[1;32m     77\u001b[0m         \u001b[38;5;241m+\u001b[39m \u001b[38;5;124m\"\u001b[39m\u001b[38;5;124mlm_polygraph.utils.register_stat_calculators.register_stat_calculators()?\u001b[39m\u001b[38;5;124m\"\u001b[39m\n\u001b[1;32m     78\u001b[0m     )\n\u001b[1;32m     79\u001b[0m \u001b[38;5;28;01mfor\u001b[39;00m d \u001b[38;5;129;01min\u001b[39;00m stat_dependencies[stat]:\n\u001b[1;32m     80\u001b[0m     \u001b[38;5;28;01mif\u001b[39;00m d \u001b[38;5;129;01mnot\u001b[39;00m \u001b[38;5;129;01min\u001b[39;00m have_stats:\n",
      "\u001b[0;31mException\u001b[0m: Cant find stat calculator for: greedy_lm_log_likelihoods. Maybe you forgot to register it in lm_polygraph.utils.register_stat_calculators.register_stat_calculators()?"
     ]
    }
   ],
   "source": [
    "estimator = PointwiseMutualInformation()\n",
    "estimate_uncertainty(model, estimator, input_text=input_text)"
   ]
  },
  {
   "cell_type": "code",
   "execution_count": 18,
   "metadata": {},
   "outputs": [
    {
     "ename": "NameError",
     "evalue": "name 'Focus' is not defined",
     "output_type": "error",
     "traceback": [
      "\u001b[0;31m---------------------------------------------------------------------------\u001b[0m",
      "\u001b[0;31mNameError\u001b[0m                                 Traceback (most recent call last)",
      "Cell \u001b[0;32mIn[18], line 1\u001b[0m\n\u001b[0;32m----> 1\u001b[0m estimator \u001b[38;5;241m=\u001b[39m \u001b[43mFocus\u001b[49m()\n\u001b[1;32m      2\u001b[0m estimate_uncertainty(model, estimator, input_text\u001b[38;5;241m=\u001b[39minput_text)\n",
      "\u001b[0;31mNameError\u001b[0m: name 'Focus' is not defined"
     ]
    }
   ],
   "source": [
    "estimator = Focus()\n",
    "estimate_uncertainty(model, estimator, input_text=input_text)"
   ]
  },
  {
   "cell_type": "code",
   "execution_count": 22,
   "metadata": {},
   "outputs": [
    {
     "name": "stdout",
     "output_type": "stream",
     "text": [
      "Kosmos2Config {\n",
      "  \"_name_or_path\": \"microsoft/kosmos-2-patch14-224\",\n",
      "  \"architectures\": [\n",
      "    \"Kosmos2ForConditionalGeneration\"\n",
      "  ],\n",
      "  \"latent_query_num\": 64,\n",
      "  \"model_type\": \"kosmos-2\",\n",
      "  \"text_config\": {\n",
      "    \"model_type\": \"kosmos_2_text_model\",\n",
      "    \"no_repeat_ngram_size\": 3\n",
      "  },\n",
      "  \"torch_dtype\": \"float32\",\n",
      "  \"transformers_version\": \"4.48.0\",\n",
      "  \"vision_config\": {\n",
      "    \"model_type\": \"kosmos_2_vision_model\"\n",
      "  }\n",
      "}\n",
      "\n"
     ]
    }
   ],
   "source": [
    "from transformers import AutoConfig\n",
    "\n",
    "config = AutoConfig.from_pretrained(\"microsoft/kosmos-2-patch14-224\")\n",
    "print(config)  # Check what attributes exist"
   ]
  },
  {
   "cell_type": "code",
   "execution_count": 23,
   "metadata": {},
   "outputs": [
    {
     "name": "stdout",
     "output_type": "stream",
     "text": [
      "LlavaNextConfig {\n",
      "  \"_name_or_path\": \"llava-hf/llava-v1.6-mistral-7b-hf\",\n",
      "  \"architectures\": [\n",
      "    \"LlavaNextForConditionalGeneration\"\n",
      "  ],\n",
      "  \"ignore_index\": -100,\n",
      "  \"image_grid_pinpoints\": [\n",
      "    [\n",
      "      336,\n",
      "      672\n",
      "    ],\n",
      "    [\n",
      "      672,\n",
      "      336\n",
      "    ],\n",
      "    [\n",
      "      672,\n",
      "      672\n",
      "    ],\n",
      "    [\n",
      "      1008,\n",
      "      336\n",
      "    ],\n",
      "    [\n",
      "      336,\n",
      "      1008\n",
      "    ]\n",
      "  ],\n",
      "  \"image_seq_length\": 576,\n",
      "  \"image_token_index\": 32000,\n",
      "  \"model_type\": \"llava_next\",\n",
      "  \"multimodal_projector_bias\": true,\n",
      "  \"projector_hidden_act\": \"gelu\",\n",
      "  \"text_config\": {\n",
      "    \"_name_or_path\": \"mistralai/Mistral-7B-Instruct-v0.2\",\n",
      "    \"architectures\": [\n",
      "      \"MistralForCausalLM\"\n",
      "    ],\n",
      "    \"intermediate_size\": 14336,\n",
      "    \"max_position_embeddings\": 32768,\n",
      "    \"model_type\": \"mistral\",\n",
      "    \"num_key_value_heads\": 8,\n",
      "    \"rms_norm_eps\": 1e-05,\n",
      "    \"rope_theta\": 1000000.0,\n",
      "    \"sliding_window\": null,\n",
      "    \"torch_dtype\": \"bfloat16\",\n",
      "    \"vocab_size\": 32064\n",
      "  },\n",
      "  \"tie_word_embeddings\": false,\n",
      "  \"torch_dtype\": \"float16\",\n",
      "  \"transformers_version\": \"4.48.0\",\n",
      "  \"use_image_newline_parameter\": true,\n",
      "  \"vision_config\": {\n",
      "    \"hidden_size\": 1024,\n",
      "    \"image_size\": 336,\n",
      "    \"intermediate_size\": 4096,\n",
      "    \"model_type\": \"clip_vision_model\",\n",
      "    \"num_attention_heads\": 16,\n",
      "    \"num_hidden_layers\": 24,\n",
      "    \"patch_size\": 14,\n",
      "    \"projection_dim\": 768,\n",
      "    \"vocab_size\": 32000\n",
      "  },\n",
      "  \"vision_feature_layer\": -2,\n",
      "  \"vision_feature_select_strategy\": \"default\",\n",
      "  \"vocab_size\": 32064\n",
      "}\n",
      "\n"
     ]
    }
   ],
   "source": [
    "config = AutoConfig.from_pretrained(\"llava-hf/llava-v1.6-mistral-7b-hf\",)\n",
    "print(config)  # Che"
   ]
  },
  {
   "cell_type": "code",
   "execution_count": 24,
   "metadata": {},
   "outputs": [
    {
     "name": "stdout",
     "output_type": "stream",
     "text": [
      "Kosmos2Config {\n",
      "  \"_attn_implementation_autoset\": true,\n",
      "  \"_name_or_path\": \"microsoft/kosmos-2-patch14-224\",\n",
      "  \"architectures\": [\n",
      "    \"Kosmos2ForConditionalGeneration\"\n",
      "  ],\n",
      "  \"latent_query_num\": 64,\n",
      "  \"model_type\": \"kosmos-2\",\n",
      "  \"text_config\": {\n",
      "    \"_attn_implementation_autoset\": true,\n",
      "    \"model_type\": \"kosmos_2_text_model\",\n",
      "    \"no_repeat_ngram_size\": 3\n",
      "  },\n",
      "  \"torch_dtype\": \"float32\",\n",
      "  \"transformers_version\": \"4.48.0\",\n",
      "  \"vision_config\": {\n",
      "    \"_attn_implementation_autoset\": true,\n",
      "    \"model_type\": \"kosmos_2_vision_model\"\n",
      "  }\n",
      "}\n",
      "\n"
     ]
    }
   ],
   "source": [
    "from transformers import AutoModel\n",
    "\n",
    "model = AutoModel.from_pretrained(\"microsoft/kosmos-2-patch14-224\")\n",
    "print(model.config)"
   ]
  },
  {
   "cell_type": "code",
   "execution_count": null,
   "metadata": {},
   "outputs": [],
   "source": []
  }
 ],
 "metadata": {
  "kernelspec": {
   "display_name": "Python [conda env:.mlspace-focus_new]",
   "language": "python",
   "name": "conda-env-.mlspace-focus_new-py"
  },
  "language_info": {
   "codemirror_mode": {
    "name": "ipython",
    "version": 3
   },
   "file_extension": ".py",
   "mimetype": "text/x-python",
   "name": "python",
   "nbconvert_exporter": "python",
   "pygments_lexer": "ipython3",
   "version": "3.10.16"
  }
 },
 "nbformat": 4,
 "nbformat_minor": 4
}
