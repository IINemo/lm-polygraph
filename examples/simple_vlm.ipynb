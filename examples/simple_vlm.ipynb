{
 "cells": [
  {
   "cell_type": "code",
   "execution_count": 1,
   "metadata": {},
   "outputs": [
    {
     "name": "stderr",
     "output_type": "stream",
     "text": [
      "/home/user/conda/lib/python3.9/site-packages/tqdm/auto.py:21: TqdmWarning: IProgress not found. Please update jupyter and ipywidgets. See https://ipywidgets.readthedocs.io/en/stable/user_install.html\n",
      "  from .autonotebook import tqdm as notebook_tqdm\n"
     ]
    }
   ],
   "source": [
    "from typing import Any, Dict, List, Optional\n",
    "\n",
    "import requests\n",
    "import torch\n",
    "from lm_polygraph import estimate_uncertainty\n",
    "from lm_polygraph.estimators import (\n",
    "    EigValLaplacian,\n",
    "    LexicalSimilarity,\n",
    "    MaximumTokenProbability,\n",
    "    PointwiseMutualInformation,\n",
    "    SemanticEntropy,\n",
    ")\n",
    "from lm_polygraph.utils.model import BlackboxModel, WhiteboxModel\n",
    "from PIL import Image\n",
    "\n",
    "%load_ext autoreload\n",
    "%autoreload 2\n",
    "from transformers import (\n",
    "    AutoModelForCausalLM,\n",
    "    AutoModelForVision2Seq,\n",
    "    AutoProcessor,\n",
    "    AutoTokenizer,\n",
    ")\n",
    "from typing import List, Union\n",
    "from dataclasses import dataclass"
   ]
  },
  {
   "cell_type": "markdown",
   "metadata": {},
   "source": [
    "## VLM Starter code"
   ]
  },
  {
   "cell_type": "code",
   "execution_count": 2,
   "metadata": {},
   "outputs": [
    {
     "name": "stdout",
     "output_type": "stream",
     "text": [
      "<grounding> An image of<phrase> a snowman</phrase><object><patch_index_0044><patch_index_0863></object> warming himself by<phrase> a fire</phrase><object><patch_index_0005><patch_index_0911></object>.\n",
      "An image of a snowman warming himself by a fire.\n"
     ]
    }
   ],
   "source": [
    "model = AutoModelForVision2Seq.from_pretrained(\"microsoft/kosmos-2-patch14-224\")\n",
    "processor = AutoProcessor.from_pretrained(\"microsoft/kosmos-2-patch14-224\")\n",
    "\n",
    "prompt = \"<grounding>An image of\"\n",
    "\n",
    "url = \"https://huggingface.co/microsoft/kosmos-2-patch14-224/resolve/main/snowman.png\"\n",
    "image = Image.open(requests.get(url, stream=True).raw)\n",
    "\n",
    "# The original Kosmos-2 demo saves the image first then reload it. For some images, this will give slightly different image input and change the generation outputs.\n",
    "image.save(\"new_image.jpg\")\n",
    "image = Image.open(\"new_image.jpg\")\n",
    "\n",
    "inputs = processor(text=prompt, images=image, return_tensors=\"pt\")\n",
    "\n",
    "generated_ids = model.generate(\n",
    "    pixel_values=inputs[\"pixel_values\"],\n",
    "    input_ids=inputs[\"input_ids\"],\n",
    "    attention_mask=inputs[\"attention_mask\"],\n",
    "    image_embeds=None,\n",
    "    image_embeds_position_mask=inputs[\"image_embeds_position_mask\"],\n",
    "    use_cache=True,\n",
    "    max_new_tokens=20,\n",
    ")\n",
    "generated_text = processor.batch_decode(generated_ids, skip_special_tokens=True)[0]\n",
    "\n",
    "# Specify `cleanup_and_extract=False` in order to see the raw model generation.\n",
    "processed_text = processor.post_process_generation(generated_text, cleanup_and_extract=False)\n",
    "\n",
    "print(processed_text)\n",
    "# `<grounding> An image of<phrase> a snowman</phrase><object><patch_index_0044><patch_index_0863></object> warming himself by<phrase> a fire</phrase><object><patch_index_0005><patch_index_0911></object>.`\n",
    "\n",
    "# By default, the generated  text is cleanup and the entities are extracted.\n",
    "processed_text, entities = processor.post_process_generation(generated_text)\n",
    "\n",
    "print(processed_text)\n",
    "# `An image of a snowman warming himself by a fire.`"
   ]
  },
  {
   "cell_type": "markdown",
   "metadata": {},
   "source": [
    "## Helper functions"
   ]
  },
  {
   "cell_type": "code",
   "execution_count": 3,
   "metadata": {},
   "outputs": [],
   "source": [
    "from dataclasses import dataclass\n",
    "from typing import Optional, Dict\n",
    "\n",
    "@dataclass\n",
    "class GenerationParameters:\n",
    "    \"\"\"\n",
    "    Parameters to override in model generation.\n",
    "    \"\"\"\n",
    "    temperature: float = 1.0\n",
    "    top_k: int = 50\n",
    "    top_p: float = 1.0\n",
    "    do_sample: bool = False\n",
    "    num_beams: int = 1\n",
    "    presence_penalty: float = 0.0\n",
    "    repetition_penalty: float = 1.0\n",
    "    generate_until: tuple = ()\n",
    "    allow_newlines: bool = True\n",
    "    \n",
    "class VLMWhiteboxModel(WhiteboxModel):\n",
    "    def __init__(self, base_model: AutoModelForVision2Seq, processor: AutoProcessor, image_path: str = None, image_url: str = None, generation_parameters: Optional[Dict] = {}):\n",
    "        self.model = base_model\n",
    "        self.processor = processor\n",
    "        self.tokenizer = processor.tokenizer\n",
    "        self.model_type = \"CausalLM\"\n",
    "        self.model_path = \"microsoft/kosmos-2-patch14-224\"\n",
    "\n",
    "        # Load and store the image\n",
    "        if image_url:\n",
    "            self.image = Image.open(requests.get(image_url, stream=True).raw)\n",
    "        elif image_path:\n",
    "            self.image = Image.open(image_path)\n",
    "        else:\n",
    "            raise ValueError(\"Either image_path or image_url must be provided\")\n",
    "            \n",
    "        # Save and reload image for consistency\n",
    "        self.image.save(\"temp_image.jpg\")\n",
    "        self.image = Image.open(\"temp_image.jpg\")\n",
    "        self.generation_parameters = generation_parameters or GenerationParameters()\n",
    "        "
   ]
  },
  {
   "cell_type": "code",
   "execution_count": 4,
   "metadata": {},
   "outputs": [
    {
     "name": "stdout",
     "output_type": "stream",
     "text": [
      "Uncertainty estimation: UncertaintyOutput(uncertainty=array([-0.52349114, -0.98595804, -0.99339235, -0.9995575 , -0.9055974 ,\n",
      "       -0.9999995 , -0.28288335, -0.89071596, -0.99985605, -0.80320007,\n",
      "       -0.89930665, -0.55406886, -0.9966098 , -0.9489591 , -0.7710566 ,\n",
      "       -0.2859758 , -0.35774505, -0.9161929 , -0.507055  , -0.31908163],\n",
      "      dtype=float32), input_text='<grounding>What is the main object in this image?', generation_text='<phrase> The main object</phrase><object><patch_index_0044><patch_index_0863></object> in this scene is a snowman sitting by a campfire.', generation_tokens=[64007, 24, 815, 3812, 64008, 64009, 64057, 64876, 64010, 12, 38, 1101, 17, 10, 43867, 1280, 32, 10, 30879, 4], model_path='microsoft/kosmos-2-patch14-224', estimator='MaximumTokenProbability')\n"
     ]
    }
   ],
   "source": [
    "# Load model and processor\n",
    "base_model = AutoModelForVision2Seq.from_pretrained(\"microsoft/kosmos-2-patch14-224\")\n",
    "processor = AutoProcessor.from_pretrained(\"microsoft/kosmos-2-patch14-224\")\n",
    "\n",
    "# Create whitebox model with image\n",
    "url = \"https://huggingface.co/microsoft/kosmos-2-patch14-224/resolve/main/snowman.png\"\n",
    "model = VLMWhiteboxModel(base_model, processor, image_url=url)\n",
    "\n",
    "# Test with input text\n",
    "input_text = \"<grounding>What is the main object in this image?\"\n",
    "\n",
    "estimator = MaximumTokenProbability()\n",
    "uncertainty = estimate_uncertainty(model, estimator, input_text=input_text)\n",
    "print(\"Uncertainty estimation:\", uncertainty)"
   ]
  },
  {
   "cell_type": "code",
   "execution_count": null,
   "metadata": {},
   "outputs": [],
   "source": []
  }
 ],
 "metadata": {
  "kernelspec": {
   "display_name": "Python [conda env:base] *",
   "language": "python",
   "name": "conda-base-py"
  },
  "language_info": {
   "codemirror_mode": {
    "name": "ipython",
    "version": 3
   },
   "file_extension": ".py",
   "mimetype": "text/x-python",
   "name": "python",
   "nbconvert_exporter": "python",
   "pygments_lexer": "ipython3",
   "version": "3.9.19"
  }
 },
 "nbformat": 4,
 "nbformat_minor": 4
}
