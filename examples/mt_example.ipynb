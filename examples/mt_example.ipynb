{
 "cells": [
  {
   "cell_type": "code",
   "execution_count": null,
   "id": "61907dd9",
   "metadata": {},
   "outputs": [],
   "source": [
    "import os\n",
    "os.environ[\"CUDA_DEVICE_ORDER\"]=\"PCI_BUS_ID\"   # see issue #152\n",
    "os.environ[\"CUDA_VISIBLE_DEVICES\"]=\"1\"\n",
    "\n",
    "from datasets import load_dataset\n",
    "from transformers import FSMTForConditionalGeneration, FSMTTokenizer\n",
    "from lm_polygraph.estimators import *\n",
    "from lm_polygraph.utils.model import WhiteboxModel\n",
    "from lm_polygraph.utils.dataset import Dataset\n",
    "from lm_polygraph.utils.processor import Logger\n",
    "from lm_polygraph.utils.manager import UEManager\n",
    "from lm_polygraph.ue_metrics import PredictionRejectionArea\n",
    "from lm_polygraph.generation_metrics import RougeMetric, BartScoreSeqMetric, ModelScoreSeqMetric, ModelScoreTokenwiseMetric\n",
    "from lm_polygraph.utils.builder_enviroment_stat_calculator import (\n",
    "    BuilderEnvironmentStatCalculator\n",
    ")\n",
    "from lm_polygraph.defaults.register_default_stat_calculators import (\n",
    "    register_default_stat_calculators,\n",
    ")\n",
    "from lm_polygraph.utils.factory_stat_calculator import StatCalculatorContainer\n",
    "from omegaconf import OmegaConf"
   ]
  },
  {
   "cell_type": "markdown",
   "id": "61ac0a1f-1e92-42c8-87d5-a2f5192ce54d",
   "metadata": {},
   "source": [
    "# Specify HyperParameters"
   ]
  },
  {
   "cell_type": "code",
   "execution_count": null,
   "id": "7de21658-5202-487c-8ac6-bff35e2254b8",
   "metadata": {},
   "outputs": [],
   "source": [
    "model_path = \"facebook/wmt19-en-de\"\n",
    "device = \"cuda\"\n",
    "model_type = \"Whitebox\"\n",
    "dataset_name = (\"wmt14\", \"de-en\")\n",
    "batch_size = 4\n",
    "seed = 42"
   ]
  },
  {
   "cell_type": "markdown",
   "id": "1c5de359-bb7d-4b60-96c3-e88b845d4ea8",
   "metadata": {},
   "source": [
    "# Initialize Model"
   ]
  },
  {
   "cell_type": "code",
   "execution_count": null,
   "id": "02434a58-3847-4e0d-994a-bdf5f533608a",
   "metadata": {},
   "outputs": [],
   "source": [
    "base_model = FSMTForConditionalGeneration.from_pretrained(\n",
    "    model_path,\n",
    "    device_map=device,\n",
    ")\n",
    "tokenizer = FSMTTokenizer.from_pretrained(model_path)\n",
    "\n",
    "model = WhiteboxModel(base_model, tokenizer, model_type=\"Seq2SeqLM\")"
   ]
  },
  {
   "cell_type": "markdown",
   "id": "fa15a017-dc14-4003-9c30-876657110a87",
   "metadata": {},
   "source": [
    "# Train and Eval Datasets"
   ]
  },
  {
   "cell_type": "code",
   "execution_count": null,
   "id": "8b8d78dd-ff6f-481e-bf5a-392c7893a27b",
   "metadata": {},
   "outputs": [],
   "source": [
    "hf_dataset = load_dataset(*dataset_name)\n",
    "\n",
    "dataset = Dataset(\n",
    "    x=[txt[\"en\"] for txt in hf_dataset[\"test\"][\"translation\"]],\n",
    "    y=[txt[\"de\"] for txt in hf_dataset[\"test\"][\"translation\"]],\n",
    "    batch_size=batch_size,\n",
    ")\n",
    "dataset.subsample(16, seed=seed)\n",
    "\n",
    "train_dataset = Dataset(\n",
    "    x=[txt[\"en\"] for txt in hf_dataset[\"train\"][\"translation\"][:1000]],\n",
    "    y=[txt[\"de\"] for txt in hf_dataset[\"train\"][\"translation\"][:1000]],\n",
    "    batch_size=batch_size,\n",
    ")\n",
    "train_dataset.subsample(16, seed=seed)"
   ]
  },
  {
   "cell_type": "markdown",
   "id": "20ec50be-252a-4ab9-913d-7048c93cd648",
   "metadata": {},
   "source": [
    "# Metric, UE Metric, and UE Methods"
   ]
  },
  {
   "cell_type": "code",
   "execution_count": null,
   "id": "5baa618b-d6dc-4292-a316-30f0e0f8db78",
   "metadata": {},
   "outputs": [],
   "source": [
    "ue_methods = [MaximumSequenceProbability(), \n",
    "              SemanticEntropy(),\n",
    "              MahalanobisDistanceSeq(\"encoder\"),]\n",
    "\n",
    "ue_metrics = [PredictionRejectionArea()]\n",
    "\n",
    "metrics = [RougeMetric('rougeL')]\n",
    "\n",
    "loggers = [Logger()] "
   ]
  },
  {
   "cell_type": "markdown",
   "id": "b0bad3d8-f1a3-488b-bb98-884d7763d6ee",
   "metadata": {},
   "source": [
    "# Stat Calculators"
   ]
  },
  {
   "cell_type": "code",
   "execution_count": null,
   "id": "0ee47ed1-f03b-49f4-97a0-9c5068c55118",
   "metadata": {},
   "outputs": [],
   "source": [
    "TrainingStatistic_config = {\n",
    "    \"dataset\": dataset_name,\n",
    "    \"text_column\": 'en',\n",
    "    \"label_column\": 'de',\n",
    "    \"description\": '',\n",
    "    \"prompt\": \"\",\n",
    "    \"few_shot_split\": 'train',\n",
    "    \"train_split\": 'train',\n",
    "    \"load_from_disk\": False,\n",
    "    \"subsample_train_dataset\": 10,\n",
    "    \"n_shot\": 5,\n",
    "    \"train_dataset\": dataset_name,\n",
    "    \"train_test_split\": False,\n",
    "    \"background_train_dataset\": 'allenai/c4',\n",
    "    \"background_train_dataset_text_column\": 'text',\n",
    "    \"background_train_dataset_label_column\": 'url',\n",
    "    \"background_train_dataset_data_files\": 'en/c4-train.00000-of-01024.json.gz',\n",
    "    \"background_load_from_disk\": False,\n",
    "    \"subsample_background_train_dataset\": 10,\n",
    "    \"batch_size\": 1,\n",
    "    \"seed\": 1\n",
    "}"
   ]
  },
  {
   "cell_type": "code",
   "execution_count": null,
   "id": "20804754-442e-4d1f-9460-bd147b136624",
   "metadata": {},
   "outputs": [],
   "source": [
    "# register default stat calculators\n",
    "result_stat_calculators = dict()\n",
    "scs = register_default_stat_calculators(model_type)\n",
    "for sc in scs:\n",
    "    result_stat_calculators[sc.name] = sc\n",
    "\n",
    "# register TrainingStatisticExtractionCalculator for the Mahalanobis Distance method\n",
    "result_stat_calculators.update(\n",
    "    {\n",
    "        \"TrainingStatisticExtractionCalculator\": StatCalculatorContainer(\n",
    "            name=\"TrainingStatisticExtractionCalculator\",\n",
    "            cfg=OmegaConf.create(TrainingStatistic_config),\n",
    "            stats=[\"train_embeddings\", \"background_train_embeddings\", \"train_greedy_log_likelihoods\"],\n",
    "            dependencies=[],\n",
    "            builder=\"lm_polygraph.defaults.stat_calculator_builders.default_TrainingStatisticExtractionCalculator\",\n",
    "        )\n",
    "    }\n",
    ")\n",
    "    \n",
    "builder_env_stat_calc = BuilderEnvironmentStatCalculator(model=model)\n",
    "available_stat_calculators = list(result_stat_calculators.values())"
   ]
  },
  {
   "cell_type": "markdown",
   "id": "a67b0923-7ebe-4931-bb1a-0d4dcf7a1590",
   "metadata": {},
   "source": [
    "# Initialize UE Manager"
   ]
  },
  {
   "cell_type": "code",
   "execution_count": null,
   "id": "b93cda59",
   "metadata": {},
   "outputs": [],
   "source": [
    "man = UEManager(\n",
    "    data=dataset,\n",
    "    model=model,\n",
    "    estimators=ue_methods,\n",
    "    builder_env_stat_calc=builder_env_stat_calc,\n",
    "    available_stat_calculators=available_stat_calculators,\n",
    "    generation_metrics=metrics,\n",
    "    ue_metrics=ue_metrics,\n",
    "    processors=loggers,\n",
    "    ignore_exceptions=False,\n",
    "    max_new_tokens=100\n",
    ")"
   ]
  },
  {
   "cell_type": "markdown",
   "id": "fbd12b48-57c0-467d-9943-0b35a674e374",
   "metadata": {},
   "source": [
    "# Compute Results"
   ]
  },
  {
   "cell_type": "code",
   "execution_count": null,
   "id": "2da7a129-cc59-4b55-b71f-fb4ee230a416",
   "metadata": {
    "tags": []
   },
   "outputs": [],
   "source": [
    "results = man()"
   ]
  },
  {
   "cell_type": "code",
   "execution_count": null,
   "id": "ef6abce0-dba7-40c1-916f-1be546a78c8f",
   "metadata": {},
   "outputs": [],
   "source": [
    "for key in results.keys():\n",
    "    print(f\"UE Score: {key[1]}, Metric: {key[2]}, UE Metric: {key[3]}, Score: {results[key]:.3f}\")"
   ]
  }
 ],
 "metadata": {
  "kernelspec": {
   "display_name": "Python [conda env:lmp_proposal]",
   "language": "python",
   "name": "conda-env-lmp_proposal-py"
  },
  "language_info": {
   "codemirror_mode": {
    "name": "ipython",
    "version": 3
   },
   "file_extension": ".py",
   "mimetype": "text/x-python",
   "name": "python",
   "nbconvert_exporter": "python",
   "pygments_lexer": "ipython3",
   "version": "3.10.15"
  }
 },
 "nbformat": 4,
 "nbformat_minor": 5
}
